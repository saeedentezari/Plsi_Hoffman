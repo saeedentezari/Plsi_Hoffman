{
 "metadata": {
  "language_info": {
   "codemirror_mode": {
    "name": "ipython",
    "version": 3
   },
   "file_extension": ".py",
   "mimetype": "text/x-python",
   "name": "python",
   "nbconvert_exporter": "python",
   "pygments_lexer": "ipython3",
   "version": "3.7.3"
  },
  "orig_nbformat": 2,
  "kernelspec": {
   "name": "pythonjvsc74a57bd0689805486acef0e487c075666298695e9f8a8f9c117cf3a598c5305b99d19197",
   "display_name": "Python 3.7.3  ('.plsienv': venv)"
  },
  "metadata": {
   "interpreter": {
    "hash": "689805486acef0e487c075666298695e9f8a8f9c117cf3a598c5305b99d19197"
   }
  }
 },
 "nbformat": 4,
 "nbformat_minor": 2,
 "cells": [
  {
   "source": [
    "# Preparing data"
   ],
   "cell_type": "markdown",
   "metadata": {}
  },
  {
   "cell_type": "code",
   "execution_count": 1,
   "metadata": {},
   "outputs": [],
   "source": [
    "corpus = [\n",
    "    'Human machine interface for Lab ABC computer applications',\n",
    "    'A survey of user opinion of computer system response time',\n",
    "    'The EPS user interface management system',\n",
    "    'System and human system engineering testing of EPS',\n",
    "    'Relation of user-perceived response time to error measurement',\n",
    "    'The generation of random, binary, unordered trees',\n",
    "    'The intersection graph of paths in trees',\n",
    "    'Graph minors IV: Width of trees and well-quasi-ordering',\n",
    "    'Graph minors: A survey'\n",
    "]\n",
    "stoplist = set('for a of the and to'.split())"
   ]
  },
  {
   "cell_type": "code",
   "execution_count": 2,
   "metadata": {},
   "outputs": [],
   "source": [
    "# creating generator object for streaming tweets\n",
    "class Tweets:\n",
    "    def __iter__(self):\n",
    "        for tweet in corpus:\n",
    "            yield tweet"
   ]
  },
  {
   "cell_type": "code",
   "execution_count": 3,
   "metadata": {},
   "outputs": [
    {
     "output_type": "stream",
     "name": "stdout",
     "text": [
      "0 [(0, 1), (1, 1), (2, 1), (3, 1), (4, 1), (5, 1), (6, 1)]\n1 [(7, 1), (8, 1), (9, 1), (5, 1), (10, 1), (11, 1), (12, 1)]\n2 [(13, 1), (8, 1), (2, 1), (14, 1), (10, 1)]\n3 [(10, 2), (0, 1), (15, 1), (16, 1), (13, 1)]\n4 [(17, 1), (8, 1), (18, 1), (11, 1), (12, 1), (19, 1), (20, 1)]\n5 [(21, 1), (22, 1), (23, 1), (24, 1), (25, 1)]\n6 [(26, 1), (27, 1), (28, 1), (29, 1), (25, 1)]\n7 [(27, 1), (30, 1), (31, 1), (32, 1), (25, 1), (33, 1), (34, 1), (35, 1)]\n8 [(27, 1), (30, 1), (7, 1)]\n"
     ]
    }
   ],
   "source": [
    "# streaming corpus and storing documents in bow representation\n",
    "import re\n",
    "from collections import defaultdict\n",
    "\n",
    "tweets = Tweets()\n",
    "# token2id : dict of (str, int)\n",
    "#   token -> tokenId\n",
    "token2id = {}\n",
    "# idf: dict of (int, int)\n",
    "#   tokenId -> how many instances of this token are contained in the documents\n",
    "idf = defaultdict(int)\n",
    "docs2bow = []\n",
    "for docno, tweet in enumerate(tweets):\n",
    "    document = re.sub(r'[-,:.]', ' ', tweet.lower()).split()\n",
    "    counter = defaultdict(int)\n",
    "    for word in document:\n",
    "        if word in stoplist: continue\n",
    "        if word not in token2id: token2id[word] = len(token2id)\n",
    "        counter[word] += 1\n",
    "        idf[token2id[word]] += 1\n",
    "    doc2bow = [(token2id[word], freq) for word, freq in counter.items()]\n",
    "    print(docno, doc2bow)\n",
    "    docs2bow.append(doc2bow)"
   ]
  },
  {
   "cell_type": "code",
   "execution_count": 4,
   "metadata": {},
   "outputs": [
    {
     "output_type": "execute_result",
     "data": {
      "text/plain": [
       "{'human': 0,\n",
       " 'machine': 1,\n",
       " 'interface': 2,\n",
       " 'lab': 3,\n",
       " 'abc': 4,\n",
       " 'computer': 5,\n",
       " 'applications': 6,\n",
       " 'survey': 7,\n",
       " 'user': 8,\n",
       " 'opinion': 9,\n",
       " 'system': 10,\n",
       " 'response': 11,\n",
       " 'time': 12,\n",
       " 'eps': 13,\n",
       " 'management': 14,\n",
       " 'engineering': 15,\n",
       " 'testing': 16,\n",
       " 'relation': 17,\n",
       " 'perceived': 18,\n",
       " 'error': 19,\n",
       " 'measurement': 20,\n",
       " 'generation': 21,\n",
       " 'random': 22,\n",
       " 'binary': 23,\n",
       " 'unordered': 24,\n",
       " 'trees': 25,\n",
       " 'intersection': 26,\n",
       " 'graph': 27,\n",
       " 'paths': 28,\n",
       " 'in': 29,\n",
       " 'minors': 30,\n",
       " 'iv': 31,\n",
       " 'width': 32,\n",
       " 'well': 33,\n",
       " 'quasi': 34,\n",
       " 'ordering': 35}"
      ]
     },
     "metadata": {},
     "execution_count": 4
    }
   ],
   "source": [
    "token2id"
   ]
  },
  {
   "cell_type": "code",
   "execution_count": 5,
   "metadata": {},
   "outputs": [
    {
     "output_type": "execute_result",
     "data": {
      "text/plain": [
       "36"
      ]
     },
     "metadata": {},
     "execution_count": 5
    }
   ],
   "source": [
    "len(idf)"
   ]
  },
  {
   "cell_type": "code",
   "execution_count": 6,
   "metadata": {},
   "outputs": [
    {
     "output_type": "execute_result",
     "data": {
      "text/plain": [
       "defaultdict(int,\n",
       "            {0: 2,\n",
       "             1: 1,\n",
       "             2: 2,\n",
       "             3: 1,\n",
       "             4: 1,\n",
       "             5: 2,\n",
       "             6: 1,\n",
       "             7: 2,\n",
       "             8: 3,\n",
       "             9: 1,\n",
       "             10: 4,\n",
       "             11: 2,\n",
       "             12: 2,\n",
       "             13: 2,\n",
       "             14: 1,\n",
       "             15: 1,\n",
       "             16: 1,\n",
       "             17: 1,\n",
       "             18: 1,\n",
       "             19: 1,\n",
       "             20: 1,\n",
       "             21: 1,\n",
       "             22: 1,\n",
       "             23: 1,\n",
       "             24: 1,\n",
       "             25: 3,\n",
       "             26: 1,\n",
       "             27: 3,\n",
       "             28: 1,\n",
       "             29: 1,\n",
       "             30: 2,\n",
       "             31: 1,\n",
       "             32: 1,\n",
       "             33: 1,\n",
       "             34: 1,\n",
       "             35: 1})"
      ]
     },
     "metadata": {},
     "execution_count": 6
    }
   ],
   "source": [
    "idf"
   ]
  },
  {
   "cell_type": "code",
   "execution_count": 7,
   "metadata": {},
   "outputs": [
    {
     "output_type": "execute_result",
     "data": {
      "text/plain": [
       "9"
      ]
     },
     "metadata": {},
     "execution_count": 7
    }
   ],
   "source": [
    "len(docs2bow)"
   ]
  },
  {
   "cell_type": "code",
   "execution_count": 8,
   "metadata": {},
   "outputs": [
    {
     "output_type": "execute_result",
     "data": {
      "text/plain": [
       "[[(0, 1), (1, 1), (2, 1), (3, 1), (4, 1), (5, 1), (6, 1)],\n",
       " [(7, 1), (8, 1), (9, 1), (5, 1), (10, 1), (11, 1), (12, 1)],\n",
       " [(13, 1), (8, 1), (2, 1), (14, 1), (10, 1)],\n",
       " [(10, 2), (0, 1), (15, 1), (16, 1), (13, 1)],\n",
       " [(17, 1), (8, 1), (18, 1), (11, 1), (12, 1), (19, 1), (20, 1)],\n",
       " [(21, 1), (22, 1), (23, 1), (24, 1), (25, 1)],\n",
       " [(26, 1), (27, 1), (28, 1), (29, 1), (25, 1)],\n",
       " [(27, 1), (30, 1), (31, 1), (32, 1), (25, 1), (33, 1), (34, 1), (35, 1)],\n",
       " [(27, 1), (30, 1), (7, 1)]]"
      ]
     },
     "metadata": {},
     "execution_count": 8
    }
   ],
   "source": [
    "docs2bow"
   ]
  },
  {
   "cell_type": "code",
   "execution_count": 9,
   "metadata": {},
   "outputs": [],
   "source": [
    "# filter once words\n",
    "bad_ids = set(tokenid for tokenid, freq in idf.items() if freq == 1)\n",
    "token2id = {token: tokenid for token, tokenid in token2id.items() if idf[tokenid] > 1}\n",
    "idf = {tokenid: freq for tokenid, freq in idf.items() if freq > 1}"
   ]
  },
  {
   "cell_type": "code",
   "execution_count": 10,
   "metadata": {},
   "outputs": [
    {
     "output_type": "execute_result",
     "data": {
      "text/plain": [
       "{1,\n",
       " 3,\n",
       " 4,\n",
       " 6,\n",
       " 9,\n",
       " 14,\n",
       " 15,\n",
       " 16,\n",
       " 17,\n",
       " 18,\n",
       " 19,\n",
       " 20,\n",
       " 21,\n",
       " 22,\n",
       " 23,\n",
       " 24,\n",
       " 26,\n",
       " 28,\n",
       " 29,\n",
       " 31,\n",
       " 32,\n",
       " 33,\n",
       " 34,\n",
       " 35}"
      ]
     },
     "metadata": {},
     "execution_count": 10
    }
   ],
   "source": [
    "bad_ids"
   ]
  },
  {
   "cell_type": "code",
   "execution_count": 11,
   "metadata": {},
   "outputs": [
    {
     "output_type": "execute_result",
     "data": {
      "text/plain": [
       "{'human': 0,\n",
       " 'interface': 2,\n",
       " 'computer': 5,\n",
       " 'survey': 7,\n",
       " 'user': 8,\n",
       " 'system': 10,\n",
       " 'response': 11,\n",
       " 'time': 12,\n",
       " 'eps': 13,\n",
       " 'trees': 25,\n",
       " 'graph': 27,\n",
       " 'minors': 30}"
      ]
     },
     "metadata": {},
     "execution_count": 11
    }
   ],
   "source": [
    "token2id"
   ]
  },
  {
   "cell_type": "code",
   "execution_count": 12,
   "metadata": {},
   "outputs": [
    {
     "output_type": "execute_result",
     "data": {
      "text/plain": [
       "{0: 2, 2: 2, 5: 2, 7: 2, 8: 3, 10: 4, 11: 2, 12: 2, 13: 2, 25: 3, 27: 3, 30: 2}"
      ]
     },
     "metadata": {},
     "execution_count": 12
    }
   ],
   "source": [
    "idf"
   ]
  },
  {
   "cell_type": "code",
   "execution_count": 13,
   "metadata": {},
   "outputs": [
    {
     "output_type": "execute_result",
     "data": {
      "text/plain": [
       "{0: 0,\n",
       " 2: 1,\n",
       " 5: 2,\n",
       " 7: 3,\n",
       " 8: 4,\n",
       " 10: 5,\n",
       " 11: 6,\n",
       " 12: 7,\n",
       " 13: 8,\n",
       " 25: 9,\n",
       " 27: 10,\n",
       " 30: 11}"
      ]
     },
     "metadata": {},
     "execution_count": 13
    }
   ],
   "source": [
    "idmap = dict(zip(sorted(token2id.values()), range(len(token2id))))\n",
    "idmap"
   ]
  },
  {
   "cell_type": "code",
   "execution_count": 14,
   "metadata": {},
   "outputs": [],
   "source": [
    "# note this cell is one time run\n",
    "token2id = {token: idmap[tokenid] for token, tokenid in token2id.items()}\n",
    "idf = {idmap[tokenid]: freq for tokenid, freq in idf.items()}"
   ]
  },
  {
   "cell_type": "code",
   "execution_count": 15,
   "metadata": {},
   "outputs": [
    {
     "output_type": "execute_result",
     "data": {
      "text/plain": [
       "{'human': 0,\n",
       " 'interface': 1,\n",
       " 'computer': 2,\n",
       " 'survey': 3,\n",
       " 'user': 4,\n",
       " 'system': 5,\n",
       " 'response': 6,\n",
       " 'time': 7,\n",
       " 'eps': 8,\n",
       " 'trees': 9,\n",
       " 'graph': 10,\n",
       " 'minors': 11}"
      ]
     },
     "metadata": {},
     "execution_count": 15
    }
   ],
   "source": [
    "token2id"
   ]
  },
  {
   "cell_type": "code",
   "execution_count": 16,
   "metadata": {},
   "outputs": [
    {
     "output_type": "execute_result",
     "data": {
      "text/plain": [
       "{0: 2, 1: 2, 2: 2, 3: 2, 4: 3, 5: 4, 6: 2, 7: 2, 8: 2, 9: 3, 10: 3, 11: 2}"
      ]
     },
     "metadata": {},
     "execution_count": 16
    }
   ],
   "source": [
    "idf"
   ]
  },
  {
   "cell_type": "code",
   "execution_count": 17,
   "metadata": {},
   "outputs": [
    {
     "output_type": "execute_result",
     "data": {
      "text/plain": [
       "[[(0, 1), (1, 1), (2, 1), (3, 1), (4, 1), (5, 1), (6, 1)],\n",
       " [(7, 1), (8, 1), (9, 1), (5, 1), (10, 1), (11, 1), (12, 1)],\n",
       " [(13, 1), (8, 1), (2, 1), (14, 1), (10, 1)],\n",
       " [(10, 2), (0, 1), (15, 1), (16, 1), (13, 1)],\n",
       " [(17, 1), (8, 1), (18, 1), (11, 1), (12, 1), (19, 1), (20, 1)],\n",
       " [(21, 1), (22, 1), (23, 1), (24, 1), (25, 1)],\n",
       " [(26, 1), (27, 1), (28, 1), (29, 1), (25, 1)],\n",
       " [(27, 1), (30, 1), (31, 1), (32, 1), (25, 1), (33, 1), (34, 1), (35, 1)],\n",
       " [(27, 1), (30, 1), (7, 1)]]"
      ]
     },
     "metadata": {},
     "execution_count": 17
    }
   ],
   "source": [
    "docs2bow"
   ]
  },
  {
   "cell_type": "code",
   "execution_count": 18,
   "metadata": {},
   "outputs": [],
   "source": [
    "# rebuild docs2bow\n",
    "docs2bow = [\n",
    "    [(idmap[tokenid], docfreq) for tokenid, docfreq in doc2bow if tokenid not in bad_ids]\n",
    "    for doc2bow in docs2bow\n",
    "]"
   ]
  },
  {
   "cell_type": "code",
   "execution_count": 19,
   "metadata": {},
   "outputs": [
    {
     "output_type": "execute_result",
     "data": {
      "text/plain": [
       "[[(0, 1), (1, 1), (2, 1)],\n",
       " [(3, 1), (4, 1), (2, 1), (5, 1), (6, 1), (7, 1)],\n",
       " [(8, 1), (4, 1), (1, 1), (5, 1)],\n",
       " [(5, 2), (0, 1), (8, 1)],\n",
       " [(4, 1), (6, 1), (7, 1)],\n",
       " [(9, 1)],\n",
       " [(10, 1), (9, 1)],\n",
       " [(10, 1), (11, 1), (9, 1)],\n",
       " [(10, 1), (11, 1), (3, 1)]]"
      ]
     },
     "metadata": {},
     "execution_count": 19
    }
   ],
   "source": [
    "docs2bow"
   ]
  },
  {
   "cell_type": "code",
   "execution_count": 20,
   "metadata": {},
   "outputs": [
    {
     "output_type": "execute_result",
     "data": {
      "text/plain": [
       "array([[1., 1., 1., 0., 0., 0., 0., 0., 0., 0., 0., 0.],\n",
       "       [0., 0., 1., 1., 1., 1., 1., 1., 0., 0., 0., 0.],\n",
       "       [0., 1., 0., 0., 1., 1., 0., 0., 1., 0., 0., 0.],\n",
       "       [1., 0., 0., 0., 0., 2., 0., 0., 1., 0., 0., 0.],\n",
       "       [0., 0., 0., 0., 1., 0., 1., 1., 0., 0., 0., 0.],\n",
       "       [0., 0., 0., 0., 0., 0., 0., 0., 0., 1., 0., 0.],\n",
       "       [0., 0., 0., 0., 0., 0., 0., 0., 0., 1., 1., 0.],\n",
       "       [0., 0., 0., 0., 0., 0., 0., 0., 0., 1., 1., 1.],\n",
       "       [0., 0., 0., 1., 0., 0., 0., 0., 0., 0., 1., 1.]])"
      ]
     },
     "metadata": {},
     "execution_count": 20
    }
   ],
   "source": [
    "# not necessary\n",
    "# creating words2bod by docs2bow -> n -> n.T -> words2bod\n",
    "import numpy as np\n",
    "\n",
    "n = np.zeros((len(docs2bow), len(idf)))\n",
    "for docno, doc2bow in enumerate(docs2bow):\n",
    "    for tokenid, docfreq in doc2bow:\n",
    "        n[docno, tokenid] += docfreq\n",
    "n"
   ]
  },
  {
   "cell_type": "code",
   "execution_count": 21,
   "metadata": {},
   "outputs": [
    {
     "output_type": "execute_result",
     "data": {
      "text/plain": [
       "array([[1., 0., 0., 1., 0., 0., 0., 0., 0.],\n",
       "       [1., 0., 1., 0., 0., 0., 0., 0., 0.],\n",
       "       [1., 1., 0., 0., 0., 0., 0., 0., 0.],\n",
       "       [0., 1., 0., 0., 0., 0., 0., 0., 1.],\n",
       "       [0., 1., 1., 0., 1., 0., 0., 0., 0.],\n",
       "       [0., 1., 1., 2., 0., 0., 0., 0., 0.],\n",
       "       [0., 1., 0., 0., 1., 0., 0., 0., 0.],\n",
       "       [0., 1., 0., 0., 1., 0., 0., 0., 0.],\n",
       "       [0., 0., 1., 1., 0., 0., 0., 0., 0.],\n",
       "       [0., 0., 0., 0., 0., 1., 1., 1., 0.],\n",
       "       [0., 0., 0., 0., 0., 0., 1., 1., 1.],\n",
       "       [0., 0., 0., 0., 0., 0., 0., 1., 1.]])"
      ]
     },
     "metadata": {},
     "execution_count": 21
    }
   ],
   "source": [
    "n.T"
   ]
  },
  {
   "cell_type": "code",
   "execution_count": 22,
   "metadata": {},
   "outputs": [],
   "source": [
    "words2bod = [\n",
    "    [(tokenid, int(docfreq)) for tokenid, docfreq in enumerate(rows) if docfreq != 0]\n",
    "    for rows in n.T\n",
    "]"
   ]
  },
  {
   "cell_type": "code",
   "execution_count": 23,
   "metadata": {},
   "outputs": [
    {
     "output_type": "execute_result",
     "data": {
      "text/plain": [
       "[[(0, 1), (3, 1)],\n",
       " [(0, 1), (2, 1)],\n",
       " [(0, 1), (1, 1)],\n",
       " [(1, 1), (8, 1)],\n",
       " [(1, 1), (2, 1), (4, 1)],\n",
       " [(1, 1), (2, 1), (3, 2)],\n",
       " [(1, 1), (4, 1)],\n",
       " [(1, 1), (4, 1)],\n",
       " [(2, 1), (3, 1)],\n",
       " [(5, 1), (6, 1), (7, 1)],\n",
       " [(6, 1), (7, 1), (8, 1)],\n",
       " [(7, 1), (8, 1)]]"
      ]
     },
     "metadata": {},
     "execution_count": 23
    }
   ],
   "source": [
    "words2bod"
   ]
  },
  {
   "source": [
    "# Creating model"
   ],
   "cell_type": "markdown",
   "metadata": {}
  },
  {
   "cell_type": "code",
   "execution_count": 24,
   "metadata": {},
   "outputs": [],
   "source": [
    "from numpy.random import rand\n",
    "\n",
    "def random_init_pars(K, nshape):\n",
    "    N, M = nshape\n",
    "    Pz = rand(K); Pz /= sum(Pz)\n",
    "    Pd_z = rand(N, K); Pd_z /= Pd_z.sum(axis=0)\n",
    "    Pw_z = rand(M, K); Pw_z /= Pw_z.sum(axis=0)\n",
    "    return Pz, Pd_z, Pw_z"
   ]
  },
  {
   "cell_type": "code",
   "execution_count": 25,
   "metadata": {},
   "outputs": [
    {
     "output_type": "execute_result",
     "data": {
      "text/plain": [
       "(9, 12)"
      ]
     },
     "metadata": {},
     "execution_count": 25
    }
   ],
   "source": [
    "n.shape"
   ]
  },
  {
   "cell_type": "code",
   "execution_count": 26,
   "metadata": {},
   "outputs": [
    {
     "output_type": "execute_result",
     "data": {
      "text/plain": [
       "(array([0.85563045, 0.14436955]),\n",
       " array([[0.17753205, 0.10028764],\n",
       "        [0.0808015 , 0.09743664],\n",
       "        [0.27629938, 0.19340294],\n",
       "        [0.04852657, 0.17056689],\n",
       "        [0.25285615, 0.0475193 ],\n",
       "        [0.01423311, 0.09800138],\n",
       "        [0.05063532, 0.02517477],\n",
       "        [0.06940201, 0.16138295],\n",
       "        [0.0297139 , 0.1062275 ]]),\n",
       " array([[0.06501794, 0.11012108],\n",
       "        [0.01302362, 0.0964885 ],\n",
       "        [0.0562286 , 0.11160602],\n",
       "        [0.05286686, 0.0353294 ],\n",
       "        [0.0856485 , 0.04440034],\n",
       "        [0.1261308 , 0.08803724],\n",
       "        [0.04545787, 0.02041228],\n",
       "        [0.08718833, 0.0335275 ],\n",
       "        [0.14152878, 0.09731091],\n",
       "        [0.15296093, 0.09745069],\n",
       "        [0.05400536, 0.12905325],\n",
       "        [0.11994241, 0.13626278]]))"
      ]
     },
     "metadata": {},
     "execution_count": 26
    }
   ],
   "source": [
    "random_init_pars(2, n.shape)"
   ]
  },
  {
   "cell_type": "code",
   "execution_count": 27,
   "metadata": {},
   "outputs": [],
   "source": [
    "def likelihood(pars, docs2bow):\n",
    "    Pz, Pd_z, Pw_z = pars\n",
    "    L = 0\n",
    "    for d, doc2bow in enumerate(docs2bow):\n",
    "        for w, ndw in doc2bow:\n",
    "            Pcocur = sum(Pz[:] * Pd_z[d,:] * Pw_z[w, :])\n",
    "            L += ndw * np.log(Pcocur)\n",
    "    return L"
   ]
  },
  {
   "cell_type": "code",
   "execution_count": 28,
   "metadata": {},
   "outputs": [
    {
     "output_type": "execute_result",
     "data": {
      "text/plain": [
       "-144.95387988556553"
      ]
     },
     "metadata": {},
     "execution_count": 28
    }
   ],
   "source": [
    "likelihood(random_init_pars(2, n.shape), docs2bow)"
   ]
  },
  {
   "source": [
    "## EM"
   ],
   "cell_type": "markdown",
   "metadata": {}
  },
  {
   "cell_type": "code",
   "execution_count": 29,
   "metadata": {},
   "outputs": [],
   "source": [
    "def Estep(pars, docs2bow):  # no necessity to pass docs2bow (datas) to Estep, but it could decrease computations\n",
    "    Pz, Pd_z, Pw_z = pars\n",
    "    poster = np.zeros((len(Pz), len(Pd_z), len(Pw_z))) \n",
    "    # poster could be an attribute and no need to reset to zeros because it's not accumulative\n",
    "    for z in range(len(Pz)):\n",
    "        for d, doc2bow in enumerate(docs2bow):\n",
    "            for w, ndw in doc2bow:\n",
    "                poster[z, d, w] = Pz[z] * Pd_z[d, z] * Pw_z[w, z]\n",
    "    # normalization\n",
    "    poster /= poster.sum(axis=0) + 1e-16\n",
    "    return poster"
   ]
  },
  {
   "cell_type": "code",
   "execution_count": 30,
   "metadata": {},
   "outputs": [
    {
     "output_type": "execute_result",
     "data": {
      "text/plain": [
       "array([[[0.34952734, 0.67387495, 0.35002385, 0.        , 0.        ,\n",
       "         0.        , 0.        , 0.        , 0.        , 0.        ,\n",
       "         0.        , 0.        ],\n",
       "        [0.        , 0.        , 0.72335671, 0.28559825, 0.60148453,\n",
       "         0.64354867, 0.73005858, 0.81745679, 0.        , 0.        ,\n",
       "         0.        , 0.        ],\n",
       "        [0.        , 0.76528633, 0.        , 0.        , 0.32908344,\n",
       "         0.36977364, 0.        , 0.        , 0.31376156, 0.        ,\n",
       "         0.        , 0.        ],\n",
       "        [0.41543676, 0.        , 0.        , 0.        , 0.        ,\n",
       "         0.32965959, 0.        , 0.        , 0.27705264, 0.        ,\n",
       "         0.        , 0.        ],\n",
       "        [0.        , 0.        , 0.        , 0.        , 0.31572897,\n",
       "         0.        , 0.45259169, 0.57788246, 0.        , 0.        ,\n",
       "         0.        , 0.        ],\n",
       "        [0.        , 0.        , 0.        , 0.        , 0.        ,\n",
       "         0.        , 0.        , 0.        , 0.        , 0.90713565,\n",
       "         0.        , 0.        ],\n",
       "        [0.        , 0.        , 0.        , 0.        , 0.        ,\n",
       "         0.        , 0.        , 0.        , 0.        , 0.60871313,\n",
       "         0.54043314, 0.        ],\n",
       "        [0.        , 0.        , 0.        , 0.        , 0.        ,\n",
       "         0.        , 0.        , 0.        , 0.        , 0.66664651,\n",
       "         0.60186376, 0.32965769],\n",
       "        [0.        , 0.        , 0.        , 0.17625575, 0.        ,\n",
       "         0.        , 0.        , 0.        , 0.        , 0.        ,\n",
       "         0.62462014, 0.35120076]],\n",
       "\n",
       "       [[0.65047266, 0.32612505, 0.64997615, 0.        , 0.        ,\n",
       "         0.        , 0.        , 0.        , 0.        , 0.        ,\n",
       "         0.        , 0.        ],\n",
       "        [0.        , 0.        , 0.27664329, 0.71440175, 0.39851547,\n",
       "         0.35645133, 0.26994142, 0.18254321, 0.        , 0.        ,\n",
       "         0.        , 0.        ],\n",
       "        [0.        , 0.23471367, 0.        , 0.        , 0.67091656,\n",
       "         0.63022636, 0.        , 0.        , 0.68623844, 0.        ,\n",
       "         0.        , 0.        ],\n",
       "        [0.58456324, 0.        , 0.        , 0.        , 0.        ,\n",
       "         0.67034041, 0.        , 0.        , 0.72294736, 0.        ,\n",
       "         0.        , 0.        ],\n",
       "        [0.        , 0.        , 0.        , 0.        , 0.68427103,\n",
       "         0.        , 0.54740831, 0.42211754, 0.        , 0.        ,\n",
       "         0.        , 0.        ],\n",
       "        [0.        , 0.        , 0.        , 0.        , 0.        ,\n",
       "         0.        , 0.        , 0.        , 0.        , 0.09286435,\n",
       "         0.        , 0.        ],\n",
       "        [0.        , 0.        , 0.        , 0.        , 0.        ,\n",
       "         0.        , 0.        , 0.        , 0.        , 0.39128687,\n",
       "         0.45956686, 0.        ],\n",
       "        [0.        , 0.        , 0.        , 0.        , 0.        ,\n",
       "         0.        , 0.        , 0.        , 0.        , 0.33335349,\n",
       "         0.39813624, 0.67034231],\n",
       "        [0.        , 0.        , 0.        , 0.82374425, 0.        ,\n",
       "         0.        , 0.        , 0.        , 0.        , 0.        ,\n",
       "         0.37537986, 0.64879924]]])"
      ]
     },
     "metadata": {},
     "execution_count": 30
    }
   ],
   "source": [
    "poster = Estep(random_init_pars(2, n.shape), docs2bow)\n",
    "poster"
   ]
  },
  {
   "cell_type": "code",
   "execution_count": 31,
   "metadata": {},
   "outputs": [
    {
     "output_type": "execute_result",
     "data": {
      "text/plain": [
       "(2, 9, 12)"
      ]
     },
     "metadata": {},
     "execution_count": 31
    }
   ],
   "source": [
    "poster.shape"
   ]
  },
  {
   "cell_type": "code",
   "execution_count": 32,
   "metadata": {},
   "outputs": [
    {
     "output_type": "execute_result",
     "data": {
      "text/plain": [
       "array([[1., 1., 1., 0., 0., 0., 0., 0., 0., 0., 0., 0.],\n",
       "       [0., 0., 1., 1., 1., 1., 1., 1., 0., 0., 0., 0.],\n",
       "       [0., 1., 0., 0., 1., 1., 0., 0., 1., 0., 0., 0.],\n",
       "       [1., 0., 0., 0., 0., 1., 0., 0., 1., 0., 0., 0.],\n",
       "       [0., 0., 0., 0., 1., 0., 1., 1., 0., 0., 0., 0.],\n",
       "       [0., 0., 0., 0., 0., 0., 0., 0., 0., 1., 0., 0.],\n",
       "       [0., 0., 0., 0., 0., 0., 0., 0., 0., 1., 1., 0.],\n",
       "       [0., 0., 0., 0., 0., 0., 0., 0., 0., 1., 1., 1.],\n",
       "       [0., 0., 0., 1., 0., 0., 0., 0., 0., 0., 1., 1.]])"
      ]
     },
     "metadata": {},
     "execution_count": 32
    }
   ],
   "source": [
    "poster.sum(axis=0)"
   ]
  },
  {
   "cell_type": "code",
   "execution_count": 33,
   "metadata": {},
   "outputs": [],
   "source": [
    "def Mstep(poster, docs2bow):\n",
    "    K, N, M = poster.shape  # K, N, M could be in an attribute self.archit\n",
    "    rePz, rePd_z, rePw_z = np.zeros(K), np.zeros((N, K)), np.zeros((M, K))  # should reset to zeros because they're accumulative\n",
    "    for z in range(K):\n",
    "        for d, doc2bow in enumerate(docs2bow):\n",
    "            for w, ndw in doc2bow:\n",
    "                rePz[z] += ndw * poster[z, d, w]\n",
    "                rePd_z[d, z] += ndw * poster[z, d, w]\n",
    "                rePw_z[w, z] += ndw * poster[z, d, w]\n",
    "    # normalization\n",
    "    rePz /= sum(rePz)\n",
    "    rePd_z /= rePd_z.sum(axis=0)\n",
    "    rePw_z /= rePw_z.sum(axis=0)\n",
    "    repars = rePz, rePd_z, rePw_z\n",
    "    return repars"
   ]
  },
  {
   "cell_type": "code",
   "execution_count": 34,
   "metadata": {},
   "outputs": [
    {
     "output_type": "stream",
     "name": "stdout",
     "text": [
      "(array([0.47279364, 0.52720636]), array([[0.05965265, 0.21361667],\n       [0.14755665, 0.22089365],\n       [0.1665747 , 0.21332415],\n       [0.16299642, 0.05454264],\n       [0.00839319, 0.04951006],\n       [0.1112006 , 0.09466588],\n       [0.12646585, 0.01177785],\n       [0.14572789, 0.09634246],\n       [0.07143206, 0.04532663]]), array([[0.13913857, 0.12536791],\n       [0.05626474, 0.11894068],\n       [0.14245509, 0.00952256],\n       [0.14640991, 0.10920056],\n       [0.06580476, 0.05833382],\n       [0.01412209, 0.08044686],\n       [0.0517519 , 0.12997643],\n       [0.08550539, 0.06545851],\n       [0.10164124, 0.00540443],\n       [0.08228007, 0.06200849],\n       [0.09162302, 0.0914898 ],\n       [0.02300321, 0.14384995]]))\n-140.3212289613326\n(array([0.45838518, 0.54161482]), array([[0.08370607, 0.12015671],\n       [0.18618867, 0.22442226],\n       [0.13007074, 0.14458344],\n       [0.17819787, 0.10385198],\n       [0.02777023, 0.16749692],\n       [0.04385355, 0.02655197],\n       [0.13792513, 0.01060289],\n       [0.10509885, 0.10205135],\n       [0.10718889, 0.10028248]]), array([[0.07265959, 0.06583911],\n       [0.02668651, 0.10474753],\n       [0.1270523 , 0.01980489],\n       [0.08274802, 0.05730096],\n       [0.07454793, 0.12790753],\n       [0.06352939, 0.20089942],\n       [0.01878131, 0.11143795],\n       [0.04548803, 0.08883523],\n       [0.14368079, 0.0057317 ],\n       [0.16197943, 0.05391157],\n       [0.15557017, 0.05933592],\n       [0.02727651, 0.1042482 ]]))\n-130.78568014395083\n"
     ]
    }
   ],
   "source": [
    "pars = random_init_pars(2, n.shape)\n",
    "print(pars)\n",
    "print(likelihood(pars, docs2bow))\n",
    "poster = Estep(pars, docs2bow)\n",
    "repars = Mstep(poster, docs2bow)\n",
    "print(repars)\n",
    "print(likelihood(repars, docs2bow))"
   ]
  },
  {
   "cell_type": "code",
   "execution_count": 35,
   "metadata": {},
   "outputs": [
    {
     "output_type": "execute_result",
     "data": {
      "text/plain": [
       "array([1., 1.])"
      ]
     },
     "metadata": {},
     "execution_count": 35
    }
   ],
   "source": [
    "repars[1].sum(axis=0)"
   ]
  },
  {
   "cell_type": "code",
   "execution_count": 36,
   "metadata": {},
   "outputs": [],
   "source": [
    "def EMsteps(runtimes, pars, docs2bow):\n",
    "    print(pars)\n",
    "    print(likelihood(pars, docs2bow))\n",
    "    for runtime in range(runtimes):\n",
    "        poster = Estep(pars, docs2bow)\n",
    "        pars = Mstep(poster, docs2bow)\n",
    "        print(likelihood(pars, docs2bow))\n",
    "    print(pars)"
   ]
  },
  {
   "cell_type": "code",
   "execution_count": 37,
   "metadata": {},
   "outputs": [
    {
     "output_type": "stream",
     "name": "stdout",
     "text": [
      "(array([0.00665207, 0.99334793]), array([[0.16493635, 0.04231414],\n       [0.10754274, 0.14936025],\n       [0.14367906, 0.02901166],\n       [0.14501712, 0.01993587],\n       [0.0499861 , 0.05188395],\n       [0.1110577 , 0.18755638],\n       [0.04488477, 0.19542478],\n       [0.1231146 , 0.19246755],\n       [0.10978156, 0.13204542]]), array([[0.08517213, 0.08497412],\n       [0.12402174, 0.13536657],\n       [0.07406   , 0.0583317 ],\n       [0.05018923, 0.14859388],\n       [0.07998341, 0.00764178],\n       [0.13704147, 0.1514245 ],\n       [0.13036373, 0.0516775 ],\n       [0.13867284, 0.04039347],\n       [0.06490141, 0.0131511 ],\n       [0.00507703, 0.09174674],\n       [0.04119675, 0.11556539],\n       [0.06932028, 0.10113325]]))\n-154.42482432140096\n-131.52940772986753\n-130.4942373335948\n-128.87679091609087\n-126.81214896943243\n-124.72079117055857\n-123.27071016119109\n-122.50343022922975\n-122.238172122838\n-122.15226196165605\n-122.08620809852431\n-121.98886134893979\n-121.8177156559297\n-121.49884794917618\n-120.9354880438973\n-120.22260040976198\n-119.7669412493233\n-119.62117332573412\n-119.57447786175547\n-119.54613539209862\n-119.52285733935109\n(array([0.37869502, 0.62130498]), array([[1.82104657e-001, 5.55059916e-002],\n       [8.94408939e-002, 2.78487597e-001],\n       [3.64227220e-001, 4.67920930e-010],\n       [3.64227221e-001, 6.30232453e-017],\n       [8.39244133e-009, 1.66501599e-001],\n       [0.00000000e+000, 5.55005347e-002],\n       [0.00000000e+000, 1.11001069e-001],\n       [0.00000000e+000, 1.66501604e-001],\n       [1.41007025e-307, 1.66501604e-001]]), array([[1.82109134e-01, 2.72834855e-06],\n       [1.82109134e-01, 2.72853946e-06],\n       [4.03481785e-17, 1.11001069e-01],\n       [3.75986133e-30, 1.11001069e-01],\n       [1.05011457e-01, 1.02495493e-01],\n       [3.48656666e-01, 9.49049473e-03],\n       [1.59255952e-24, 1.11001069e-01],\n       [2.16426081e-24, 1.11001069e-01],\n       [1.82113610e-01, 3.34143980e-74],\n       [0.00000000e+00, 1.66501604e-01],\n       [0.00000000e+00, 1.66501604e-01],\n       [0.00000000e+00, 1.11001069e-01]]))\n"
     ]
    }
   ],
   "source": [
    "pars = random_init_pars(2, n.shape)\n",
    "EMsteps(20, pars, docs2bow)"
   ]
  },
  {
   "cell_type": "code",
   "execution_count": 38,
   "metadata": {},
   "outputs": [
    {
     "output_type": "execute_result",
     "data": {
      "text/plain": [
       "{'human': 0,\n",
       " 'interface': 1,\n",
       " 'computer': 2,\n",
       " 'survey': 3,\n",
       " 'user': 4,\n",
       " 'system': 5,\n",
       " 'response': 6,\n",
       " 'time': 7,\n",
       " 'eps': 8,\n",
       " 'trees': 9,\n",
       " 'graph': 10,\n",
       " 'minors': 11}"
      ]
     },
     "metadata": {},
     "execution_count": 38
    }
   ],
   "source": [
    "token2id"
   ]
  },
  {
   "cell_type": "code",
   "execution_count": 39,
   "metadata": {},
   "outputs": [
    {
     "output_type": "execute_result",
     "data": {
      "text/plain": [
       "['Human machine interface for Lab ABC computer applications',\n",
       " 'A survey of user opinion of computer system response time',\n",
       " 'The EPS user interface management system',\n",
       " 'System and human system engineering testing of EPS',\n",
       " 'Relation of user-perceived response time to error measurement',\n",
       " 'The generation of random, binary, unordered trees',\n",
       " 'The intersection graph of paths in trees',\n",
       " 'Graph minors IV: Width of trees and well-quasi-ordering',\n",
       " 'Graph minors: A survey']"
      ]
     },
     "metadata": {},
     "execution_count": 39
    }
   ],
   "source": [
    "corpus"
   ]
  },
  {
   "source": [
    "## TEM"
   ],
   "cell_type": "markdown",
   "metadata": {}
  },
  {
   "cell_type": "code",
   "execution_count": 40,
   "metadata": {},
   "outputs": [],
   "source": [
    "def TEstep(beta, pars, docs2bow):\n",
    "    Pz, Pd_z, Pw_z = pars\n",
    "    poster = np.zeros((len(Pz), len(Pd_z), len(Pw_z)))\n",
    "    for z in range(len(Pz)):\n",
    "        for d, doc2bow in enumerate(docs2bow):\n",
    "            for w, ndw in doc2bow:\n",
    "                poster[z, d, w] = Pz[z] * (Pd_z[d, z] * Pw_z[w, z])**beta\n",
    "    poster /= poster.sum(axis=0) + 1e-16\n",
    "    return poster"
   ]
  },
  {
   "cell_type": "code",
   "execution_count": 41,
   "metadata": {},
   "outputs": [],
   "source": [
    "def TMstep(poster, docs2bow):\n",
    "    K, N, M = poster.shape\n",
    "    rePz, rePd_z, rePw_z = np.zeros(K), np.zeros((N, K)), np.zeros((M, K))\n",
    "    for z in range(K):\n",
    "        for d, doc2bow in enumerate(docs2bow):\n",
    "            for w, ndw in doc2bow:\n",
    "                rePz[z] += ndw * poster[z, d, w]\n",
    "                rePd_z[d, z] += ndw * poster[z, d, w]\n",
    "                rePw_z[w, z] += ndw * poster[z, d, w]\n",
    "    rePz /= sum(rePz)\n",
    "    rePd_z /= rePd_z.sum(axis=0)\n",
    "    rePw_z /= rePw_z.sum(axis=0)\n",
    "    repars = rePz, rePd_z, rePw_z\n",
    "    return repars"
   ]
  },
  {
   "cell_type": "code",
   "execution_count": 42,
   "metadata": {},
   "outputs": [],
   "source": [
    "def TEMsteps(pars, docs2bow):\n",
    "    beta = 1\n",
    "    new_likeli = likelihood(pars, docs2bow)\n",
    "    likeli = -10000\n",
    "    counter = 0\n",
    "    while round(new_likeli, 6) > round(likeli, 6):\n",
    "        counter += 1\n",
    "        likeli = new_likeli\n",
    "        print(counter, likeli)\n",
    "        poster = TEstep(beta, pars, docs2bow)\n",
    "        pars = TMstep(poster, docs2bow)\n",
    "        new_likeli = likelihood(pars, docs2bow)\n",
    "    print(new_likeli)"
   ]
  },
  {
   "cell_type": "code",
   "execution_count": 43,
   "metadata": {},
   "outputs": [],
   "source": [
    "def TEMsteps(eta, pars, docs2bow):\n",
    "    beta = 1\n",
    "    for i in range(100):\n",
    "        print(beta)\n",
    "        pars = random_init_pars(2, n.shape)\n",
    "        new_likeli = likelihood(pars, docs2bow)\n",
    "        likeli = -10000\n",
    "        while new_likeli > likeli:\n",
    "            likeli = new_likeli\n",
    "            print(likeli)\n",
    "            # one iteration TEM\n",
    "            poster = TEstep(beta, pars, docs2bow)\n",
    "            pars = TMstep(poster, docs2bow)\n",
    "            new_likeli = likelihood(pars, docs2bow)\n",
    "        print(new_likeli)\n",
    "        # new_likeli = likeli\n",
    "        beta *= eta"
   ]
  },
  {
   "cell_type": "code",
   "execution_count": 44,
   "metadata": {
    "tags": []
   },
   "outputs": [
    {
     "output_type": "stream",
     "name": "stdout",
     "text": [
      "1\n",
      "-143.8315669463502\n",
      "-130.42484745359044\n",
      "-128.08742267296756\n",
      "-124.64554721545574\n",
      "-121.81525844147275\n",
      "-120.49740122731518\n",
      "-119.55579245308836\n",
      "-118.43490671018704\n",
      "-117.18056887670213\n",
      "-116.38859086078492\n",
      "-116.16813343936612\n",
      "-116.0660348139822\n",
      "-115.96525986209808\n",
      "-115.88327831377954\n",
      "-115.8336097430055\n",
      "-115.80988128393149\n",
      "-115.80004404914354\n",
      "-115.79623178249295\n",
      "-115.79479512916532\n",
      "-115.79425956203264\n",
      "-115.79406072294995\n",
      "-115.7939870126522\n",
      "-115.79395970345033\n",
      "-115.79394958768336\n",
      "-115.7939458409318\n",
      "-115.79394445322257\n",
      "-115.79394393925297\n",
      "-115.79394374889341\n",
      "-115.79394367838984\n",
      "-115.79394365227735\n",
      "-115.7939436426061\n",
      "-115.7939436390241\n",
      "-115.7939436376975\n",
      "-115.79394363720613\n",
      "-115.79394363702411\n",
      "-115.79394363695674\n",
      "-115.7939436369318\n",
      "-115.79394363692255\n",
      "-115.7939436369191\n",
      "-115.79394363691785\n",
      "-115.79394363691736\n",
      "-115.79394363691718\n",
      "-115.79394363691713\n",
      "-115.79394363691709\n",
      "-115.7939436369171\n",
      "0.9\n",
      "-150.21760335763196\n",
      "-132.04391306703693\n",
      "-131.85341942607926\n",
      "-131.58792516564313\n",
      "-131.18054097731056\n",
      "-130.55672633827885\n",
      "-129.67692936770385\n",
      "-128.51875607000787\n",
      "-127.08309720204123\n",
      "-125.53788949720108\n",
      "-124.53342048208125\n",
      "-124.2095181622429\n",
      "-124.02184826418925\n",
      "-123.61700479973071\n",
      "-122.99382654593214\n",
      "-122.47225564414158\n",
      "-122.00900996316157\n",
      "-121.1884764487241\n",
      "-119.96633030002461\n",
      "-119.03286782306745\n",
      "-118.70259019614637\n",
      "-118.62586422807206\n",
      "-118.60463230664297\n",
      "-118.59611968310155\n",
      "-118.59178391527108\n",
      "-118.58928881441408\n",
      "-118.58759548197365\n",
      "-118.58472198361676\n",
      "-118.56814888786263\n",
      "-118.46452707374256\n",
      "-117.99880984148643\n",
      "-116.91277765438453\n",
      "-115.99876855126955\n",
      "-115.80142868913798\n",
      "-115.79439144456057\n",
      "-115.79428272454952\n",
      "-115.79421561263824\n",
      "-115.79416662665169\n",
      "-115.79413011818863\n",
      "-115.79410239302949\n",
      "-115.79408097853998\n",
      "-115.79406418407598\n",
      "-115.79405083068558\n",
      "-115.79404008112986\n",
      "-115.79403133072701\n",
      "-115.79402413587275\n",
      "-115.79401816637197\n",
      "-115.79401317310442\n",
      "-115.7940089657398\n",
      "-115.79400539714945\n",
      "-115.79400235234905\n",
      "-115.79399974055227\n",
      "-115.79399748938992\n",
      "-115.79399554065516\n",
      "-115.79399384713852\n",
      "-115.79399237024842\n",
      "-115.79399107820596\n",
      "-115.79398994466169\n",
      "-115.79398894762758\n",
      "-115.79398806864444\n",
      "-115.79398729212873\n",
      "-115.79398660485566\n",
      "-115.79398599554771\n",
      "-115.7939854545443\n",
      "-115.79398497353517\n",
      "-115.79398454534375\n",
      "-115.79398416375061\n",
      "-115.79398382334745\n",
      "-115.79398351941725\n",
      "-115.7939832478341\n",
      "-115.79398300497992\n",
      "-115.79398278767444\n",
      "-115.79398259311601\n",
      "-115.79398241883176\n",
      "-115.79398226263488\n",
      "-115.79398212258859\n",
      "-115.79398199697457\n",
      "-115.79398188426669\n",
      "-115.79398178310733\n",
      "-115.7939816922878\n",
      "-115.79398161073071\n",
      "-115.79398153747468\n",
      "-115.79398147166148\n",
      "-115.793981412524\n",
      "-115.79398135937632\n",
      "-115.79398131160461\n",
      "-115.79398126865935\n",
      "-115.79398123004822\n",
      "-115.79398119533013\n",
      "-115.7939811641094\n",
      "-115.79398113603133\n",
      "-115.79398111077755\n",
      "-115.79398108806237\n",
      "-115.79398106762928\n",
      "-115.79398104924795\n",
      "-115.79398103271146\n",
      "-115.793981017834\n",
      "-115.79398100444858\n",
      "-115.79398099240503\n",
      "-115.7939809815686\n",
      "-115.79398097181786\n",
      "-115.79398096304385\n",
      "-115.79398095514854\n",
      "-115.79398094804377\n",
      "-115.79398094165023\n",
      "-115.79398093589668\n",
      "-115.7939809307189\n",
      "-115.79398092605922\n",
      "-115.79398092186577\n",
      "-115.79398091809182\n",
      "-115.7939809146954\n",
      "-115.79398091163877\n",
      "-115.79398090888776\n",
      "-115.79398090641192\n",
      "-115.79398090418364\n",
      "-115.7939809021782\n",
      "-115.79398090037331\n",
      "-115.79398089874887\n",
      "-115.79398089728684\n",
      "-115.79398089597098\n",
      "-115.79398089478671\n",
      "-115.79398089372077\n",
      "-115.79398089276145\n",
      "-115.793980891898\n",
      "-115.79398089112088\n",
      "-115.79398089042144\n",
      "-115.79398088979188\n",
      "-115.79398088922532\n",
      "-115.79398088871535\n",
      "-115.79398088825637\n",
      "-115.79398088784328\n",
      "-115.79398088747145\n",
      "-115.7939808871368\n",
      "-115.79398088683558\n",
      "-115.79398088656448\n",
      "-115.79398088632053\n",
      "-115.79398088610088\n",
      "-115.79398088590322\n",
      "-115.79398088572532\n",
      "-115.79398088556519\n",
      "-115.79398088542108\n",
      "-115.79398088529138\n",
      "-115.79398088517462\n",
      "-115.79398088506952\n",
      "-115.79398088497496\n",
      "-115.79398088488983\n",
      "-115.7939808848132\n",
      "-115.79398088474426\n",
      "-115.7939808846822\n",
      "-115.79398088462635\n",
      "-115.79398088457606\n",
      "-115.79398088453082\n",
      "-115.79398088449004\n",
      "-115.7939808844534\n",
      "-115.79398088442042\n",
      "-115.79398088439072\n",
      "-115.79398088436399\n",
      "-115.79398088433992\n",
      "-115.79398088431824\n",
      "-115.79398088429878\n",
      "-115.79398088428127\n",
      "-115.79398088426544\n",
      "-115.79398088425123\n",
      "-115.79398088423844\n",
      "-115.79398088422694\n",
      "-115.79398088421654\n",
      "-115.79398088420723\n",
      "-115.79398088419885\n",
      "-115.79398088419131\n",
      "-115.79398088418453\n",
      "-115.79398088417835\n",
      "-115.79398088417288\n",
      "-115.79398088416788\n",
      "-115.79398088416347\n",
      "-115.79398088415942\n",
      "-115.79398088415581\n",
      "-115.79398088415256\n",
      "-115.79398088414962\n",
      "-115.793980884147\n",
      "-115.79398088414464\n",
      "-115.79398088414248\n",
      "-115.79398088414058\n",
      "-115.79398088413883\n",
      "-115.79398088413728\n",
      "-115.79398088413588\n",
      "-115.79398088413465\n",
      "-115.7939808841335\n",
      "-115.79398088413245\n",
      "-115.79398088413153\n",
      "-115.79398088413073\n",
      "-115.79398088412998\n",
      "-115.7939808841293\n",
      "-115.79398088412869\n",
      "-115.79398088412813\n",
      "-115.79398088412766\n",
      "-115.79398088412724\n",
      "-115.79398088412682\n",
      "-115.79398088412647\n",
      "-115.79398088412616\n",
      "-115.79398088412587\n",
      "-115.7939808841256\n",
      "-115.79398088412539\n",
      "-115.79398088412519\n",
      "-115.79398088412498\n",
      "-115.79398088412484\n",
      "-115.79398088412465\n",
      "-115.79398088412452\n",
      "-115.79398088412437\n",
      "-115.7939808841243\n",
      "-115.79398088412417\n",
      "-115.79398088412411\n",
      "-115.79398088412403\n",
      "-115.79398088412391\n",
      "-115.79398088412384\n",
      "-115.7939808841238\n",
      "-115.79398088412373\n",
      "-115.7939808841237\n",
      "-115.79398088412366\n",
      "-115.79398088412361\n",
      "-115.79398088412357\n",
      "-115.79398088412358\n",
      "0.81\n",
      "-141.0118579739798\n",
      "-131.6568818073105\n",
      "-130.7918078493523\n",
      "-129.60737152097659\n",
      "-127.6186178805413\n",
      "-124.71527515753982\n",
      "-121.66551909742651\n",
      "-119.52760380933796\n",
      "-118.28389457835338\n",
      "-117.37579336534584\n",
      "-116.6024203624881\n",
      "-116.09706782920031\n",
      "-115.9005803962535\n",
      "-115.84854434500801\n",
      "-115.82932183502813\n",
      "-115.81874450446442\n",
      "-115.81234837749231\n",
      "-115.80830307407962\n",
      "-115.80564395330371\n",
      "-115.80383477896741\n",
      "-115.80256633243684\n",
      "-115.80165386426846\n",
      "-115.80098310826062\n",
      "-115.80048103922263\n",
      "-115.80009955124365\n",
      "-115.7998060649565\n",
      "-115.79957795807279\n",
      "-115.79939916711727\n",
      "-115.79925805721267\n",
      "-115.79914605250812\n",
      "-115.79905673454125\n",
      "-115.7989852353712\n",
      "-115.79892782058138\n",
      "-115.79888159717848\n",
      "-115.79884430528817\n",
      "-115.79881416713934\n",
      "-115.7987897759139\n",
      "-115.79877001280812\n",
      "-115.7987539843776\n",
      "-115.79874097468112\n",
      "-115.79873040837319\n",
      "-115.7987218219976\n",
      "-115.79871484149662\n",
      "-115.79870916447744\n",
      "-115.7987045461562\n",
      "-115.79870078816431\n",
      "-115.79869772960166\n",
      "-115.79869523986174\n",
      "-115.79869321286267\n",
      "-115.79869156239809\n",
      "-115.79869021838401\n",
      "-115.79868912382334\n",
      "-115.79868823234919\n",
      "-115.79868750623275\n",
      "-115.79868691476844\n",
      "-115.79868643296176\n",
      "-115.79868604046466\n",
      "-115.79868572070944\n",
      "-115.79868546020529\n",
      "-115.79868524796588\n",
      "-115.79868507504365\n",
      "-115.79868493415113\n",
      "-115.7986848193525\n",
      "-115.79868472581263\n",
      "-115.79868464959291\n",
      "-115.79868458748486\n",
      "-115.79868453687459\n",
      "-115.7986844956328\n",
      "-115.79868446202441\n",
      "-115.7986844346361\n",
      "-115.79868441231623\n",
      "-115.79868439412645\n",
      "-115.79868437930222\n",
      "-115.79868436722064\n",
      "-115.7986843573741\n",
      "-115.79868434934896\n",
      "-115.79868434280817\n",
      "-115.79868433747707\n",
      "-115.7986843331319\n",
      "-115.7986843295902\n",
      "-115.79868432670342\n",
      "-115.7986843243503\n",
      "-115.79868432243231\n",
      "-115.7986843208688\n",
      "-115.79868431959433\n",
      "-115.79868431855542\n",
      "-115.79868431770853\n",
      "-115.79868431701811\n",
      "-115.79868431645534\n",
      "-115.7986843159965\n",
      "-115.79868431562245\n",
      "-115.7986843153175\n",
      "-115.79868431506888\n",
      "-115.79868431486622\n",
      "-115.79868431470099\n",
      "-115.79868431456619\n",
      "-115.79868431445638\n",
      "-115.79868431436675\n",
      "-115.79868431429378\n",
      "-115.79868431423424\n",
      "-115.79868431418566\n",
      "-115.7986843141461\n",
      "-115.79868431411381\n",
      "-115.7986843140875\n",
      "-115.79868431406608\n",
      "-115.79868431404857\n",
      "-115.79868431403428\n",
      "-115.79868431402262\n",
      "-115.79868431401313\n",
      "-115.7986843140054\n",
      "-115.79868431399908\n",
      "-115.79868431399399\n",
      "-115.79868431398974\n",
      "-115.79868431398633\n",
      "-115.79868431398359\n",
      "-115.79868431398125\n",
      "-115.79868431397941\n",
      "-115.7986843139779\n",
      "-115.79868431397662\n",
      "-115.79868431397564\n",
      "-115.79868431397483\n",
      "-115.79868431397418\n",
      "-115.7986843139736\n",
      "-115.79868431397317\n",
      "-115.7986843139728\n",
      "-115.79868431397252\n",
      "-115.79868431397226\n",
      "-115.79868431397205\n",
      "-115.79868431397189\n",
      "-115.79868431397175\n",
      "-115.79868431397166\n",
      "-115.79868431397156\n",
      "-115.79868431397146\n",
      "-115.79868431397146\n",
      "0.7290000000000001\n",
      "-145.71210416207225\n",
      "-130.34841639333868\n",
      "-128.9603608147337\n",
      "-126.78297545168837\n",
      "-123.74736992711678\n",
      "-120.47239874337177\n",
      "-117.93850562501639\n",
      "-116.58452560612382\n",
      "-116.07633503013379\n",
      "-115.92421639416484\n",
      "-115.87509545601732\n",
      "-115.8539242164182\n",
      "-115.84276913406731\n",
      "-115.83624184405883\n",
      "-115.83216909964891\n",
      "-115.82951688051728\n",
      "-115.82773819035671\n",
      "-115.82652053846839\n",
      "-115.82567475754286\n",
      "-115.8250811719354\n",
      "-115.82466148977251\n",
      "-115.82436318145612\n",
      "-115.82415032999516\n",
      "-115.8239980304888\n",
      "-115.82388883449676\n",
      "-115.82381042462744\n",
      "-115.82375405735542\n",
      "-115.8237135009094\n",
      "-115.82368430056137\n",
      "-115.82366326496779\n",
      "-115.82364810419935\n",
      "-115.82363717316503\n",
      "-115.82362928895711\n",
      "-115.82362360040736\n",
      "-115.8236194947133\n",
      "-115.82361653048518\n",
      "-115.82361438967632\n",
      "-115.82361284303828\n",
      "-115.82361172527747\n",
      "-115.82361091717843\n",
      "-115.82361033273419\n",
      "-115.82360990987843\n",
      "-115.82360960380824\n",
      "-115.823609382173\n",
      "-115.82360922160623\n",
      "-115.82360910522523\n",
      "-115.8236090208278\n",
      "-115.8236089595916\n",
      "-115.82360891513538\n",
      "-115.82360888284205\n",
      "-115.82360885936941\n",
      "-115.82360884229699\n",
      "-115.82360882987119\n",
      "-115.82360882082092\n",
      "-115.82360881422424\n",
      "-115.82360880941222\n",
      "-115.82360880589921\n",
      "-115.82360880333238\n",
      "-115.82360880145521\n",
      "-115.82360880008119\n",
      "-115.8236087990745\n",
      "-115.8236087983362\n",
      "-115.82360879779418\n",
      "-115.82360879739592\n",
      "-115.82360879710288\n",
      "-115.82360879688709\n",
      "-115.823608796728\n",
      "-115.82360879661053\n",
      "-115.82360879652379\n",
      "-115.82360879645955\n",
      "-115.82360879641203\n",
      "-115.82360879637676\n",
      "-115.82360879635053\n",
      "-115.82360879633107\n",
      "-115.82360879631653\n",
      "-115.82360879630575\n",
      "-115.8236087962977\n",
      "-115.82360879629167\n",
      "-115.82360879628717\n",
      "-115.82360879628376\n",
      "-115.82360879628125\n",
      "-115.82360879627933\n",
      "-115.82360879627794\n",
      "-115.82360879627684\n",
      "-115.82360879627605\n",
      "-115.82360879627541\n",
      "-115.82360879627495\n",
      "-115.82360879627464\n",
      "-115.82360879627433\n",
      "-115.82360879627419\n",
      "-115.82360879627399\n",
      "-115.82360879627386\n",
      "-115.82360879627379\n",
      "-115.82360879627373\n",
      "-115.82360879627367\n",
      "-115.82360879627366\n",
      "-115.8236087962736\n",
      "-115.82360879627362\n",
      "0.6561000000000001\n",
      "-142.7939909739725\n",
      "-132.00944979134692\n",
      "-131.8917384839504\n",
      "-131.77703821921415\n",
      "-131.61948184285072\n",
      "-131.39379974858323\n",
      "-131.0671080028474\n",
      "-130.5934782806365\n",
      "-129.91207653370645\n",
      "-128.95052775396155\n",
      "-127.63863122477649\n",
      "-125.93804512075337\n",
      "-123.88789206368216\n",
      "-121.65128448310018\n",
      "-119.52254615599003\n",
      "-117.82992468992661\n",
      "-116.75107464257836\n",
      "-116.21623105341432\n",
      "-116.008588834209\n",
      "-115.93811845370278\n",
      "-115.91107555095317\n",
      "-115.89752547351378\n",
      "-115.88966064783203\n",
      "-115.88486138401205\n",
      "-115.88186523156149\n",
      "-115.87996895136081\n",
      "-115.87875816716291\n",
      "-115.87798059427762\n",
      "-115.87747932834839\n",
      "-115.87715539310459\n",
      "-115.87694575402342\n",
      "-115.87681000165016\n",
      "-115.87672211014063\n",
      "-115.87666526094479\n",
      "-115.87662855850482\n",
      "-115.8766049315299\n",
      "-115.87658978492743\n",
      "-115.87658013050225\n",
      "-115.87657402464701\n",
      "-115.87657020368648\n",
      "-115.87656784690053\n",
      "-115.87656642225313\n",
      "-115.87656558582476\n",
      "-115.87656511618735\n",
      "-115.87656487155697\n",
      "-115.87656476181483\n",
      "-115.87656473024637\n",
      "-115.87656474163487\n",
      "0.5904900000000002\n",
      "-144.88530777949714\n",
      "-131.24521272329648\n",
      "-131.05594419400484\n",
      "-130.80355752921506\n",
      "-130.44938243919702\n",
      "-129.98814730358626\n",
      "-129.4180386868381\n",
      "-128.74156487718767\n",
      "-127.96941186014651\n",
      "-127.12290299249264\n",
      "-126.23336121996962\n",
      "-125.33771114894881\n",
      "-124.47125572125194\n",
      "-123.66030291344828\n",
      "-122.91790452348401\n",
      "-122.24449859506329\n",
      "-121.63248342265817\n",
      "-121.0717880051945\n",
      "-120.55372724824116\n",
      "-120.0722356094987\n",
      "-119.62328806477517\n",
      "-119.20386973334357\n",
      "-118.81138513891356\n",
      "-118.44367215801124\n",
      "-118.0993549796761\n",
      "-117.77819080062888\n",
      "-117.48116466921527\n",
      "-117.2102353278887\n",
      "-116.96777755424279\n",
      "-116.75587307023639\n",
      "-116.57564915848708\n",
      "-116.42684333542803\n",
      "-116.30769553613445\n",
      "-116.21516497249901\n",
      "-116.14537470407687\n",
      "-116.09413659805013\n",
      "-116.05741698401465\n",
      "-116.03165603686763\n",
      "-116.01392048729377\n",
      "-116.00191986362458\n",
      "-115.9939379357559\n",
      "-115.9887277863055\n",
      "-115.98540366024125\n",
      "-115.98334661605256\n",
      "-115.98212948946997\n",
      "-115.98146045050441\n",
      "-115.98114197951337\n",
      "-115.9810416799108\n",
      "-115.98107179157356\n",
      "0.5314410000000002\n",
      "-141.38891250997955\n",
      "-130.8731046209795\n",
      "-130.88651582900312\n",
      "0.47829690000000014\n",
      "-152.94704576137565\n",
      "-131.5525449429184\n",
      "-131.76313272230476\n",
      "0.43046721000000016\n",
      "-142.61119174614163\n",
      "-131.8780707559202\n",
      "-132.0565559143695\n",
      "0.38742048900000015\n",
      "-149.64597948593692\n",
      "-131.98678202079785\n",
      "-132.18750812915263\n",
      "0.34867844010000015\n",
      "-143.85562300428927\n",
      "-131.0077314643852\n",
      "-131.7046855039493\n",
      "0.31381059609000017\n",
      "-149.11058151037193\n",
      "-132.02572502928516\n",
      "-132.26331083956433\n",
      "0.28242953648100017\n",
      "-145.6640771931832\n",
      "-131.18937196547603\n",
      "-132.0500208228316\n",
      "0.25418658283290013\n",
      "-169.27529451998612\n",
      "-132.33874905926615\n",
      "-132.36443407741365\n",
      "0.22876792454961012\n",
      "-148.03599207852943\n",
      "-132.36286562888324\n",
      "-132.368307623002\n",
      "0.2058911320946491\n",
      "-140.65109370956318\n",
      "-132.15909240023535\n",
      "-132.34106719519056\n",
      "0.1853020188851842\n",
      "-137.24165839778541\n",
      "-132.19422136246092\n",
      "-132.350113537628\n",
      "0.16677181699666577\n",
      "-149.05111003482975\n",
      "-132.36760476566985\n",
      "-132.36935066141444\n",
      "0.1500946352969992\n",
      "-151.53219795635684\n",
      "-132.28303426927155\n",
      "-132.36256593392832\n",
      "0.13508517176729928\n",
      "-138.6006948328865\n",
      "-132.33058772936386\n",
      "-132.36784551067726\n",
      "0.12157665459056936\n",
      "-143.43036215158787\n",
      "-132.05128121465734\n",
      "-132.35388276921643\n",
      "0.10941898913151243\n",
      "-140.14078655960492\n",
      "-132.18335583509307\n",
      "-132.3618421133044\n",
      "0.0984770902183612\n",
      "-141.55229059174633\n",
      "-132.34573622437603\n",
      "-132.36893383434517\n",
      "0.08862938119652508\n",
      "-139.31064381586683\n",
      "-132.3267778566513\n",
      "-132.36859562642945\n",
      "0.07976644307687257\n",
      "-145.15313158045655\n",
      "-132.3194434192969\n",
      "-132.3686275833735\n",
      "0.07178979876918531\n",
      "-142.63806418868566\n",
      "-132.2922128659085\n",
      "-132.36807448622696\n",
      "0.06461081889226679\n",
      "-142.56563621536955\n",
      "-132.3569343906929\n",
      "-132.3694097882762\n",
      "0.05814973700304011\n",
      "-149.24150529908889\n",
      "-132.32479996836406\n",
      "-132.368975268971\n",
      "0.0523347633027361\n",
      "-157.39795955605044\n",
      "-132.36545322614168\n",
      "-132.3695222768378\n",
      "0.04710128697246249\n",
      "-143.17974960845552\n",
      "-132.36769389723506\n",
      "-132.3695517286943\n",
      "0.042391158275216244\n",
      "-142.51641568366523\n",
      "-132.34694283405594\n",
      "-132.3694595150483\n",
      "0.03815204244769462\n",
      "-146.204133567957\n",
      "-132.36579986126017\n",
      "-132.36954834960076\n",
      "0.03433683820292516\n",
      "-138.6984009155175\n",
      "-132.36357076043825\n",
      "-132.36953961069955\n",
      "0.030903154382632643\n",
      "-139.9807922468484\n",
      "-132.36939965214822\n",
      "-132.3695602838671\n",
      "0.02781283894436938\n",
      "-140.58715482904051\n",
      "-132.36171505125074\n",
      "-132.36954210378832\n",
      "0.025031555049932444\n",
      "-144.29307486252637\n",
      "-132.3685124684692\n",
      "-132.36955977453323\n",
      "0.0225283995449392\n",
      "-139.63850526238724\n",
      "-132.3695141123592\n",
      "-132.3695615526893\n",
      "0.020275559590445278\n",
      "-145.57358802170552\n",
      "-132.36607716500282\n",
      "-132.36955772506275\n",
      "0.01824800363140075\n",
      "-143.31685677758787\n",
      "-132.36668657382677\n",
      "-132.36955841040395\n",
      "0.016423203268260675\n",
      "-138.20997581499168\n",
      "-132.3677025196712\n",
      "-132.3695602962352\n",
      "0.014780882941434608\n",
      "-144.8146019347665\n",
      "-132.36947738294154\n",
      "-132.3695616238173\n",
      "0.013302794647291147\n",
      "-151.1309198837456\n",
      "-132.36656372904838\n",
      "-132.36955992633207\n",
      "0.011972515182562033\n",
      "-141.49781626563427\n",
      "-132.36946338284235\n",
      "-132.3695616325178\n",
      "0.01077526366430583\n",
      "-145.52418541401366\n",
      "-132.36881675385973\n",
      "-132.3695614269751\n",
      "0.009697737297875247\n",
      "-143.03307414936992\n",
      "-132.36925901559292\n",
      "-132.36956159692426\n",
      "0.008727963568087723\n",
      "-161.28308203143987\n",
      "-132.36947102904466\n",
      "-132.36956165602174\n",
      "0.00785516721127895\n",
      "-155.6698314054486\n",
      "-132.3694764321788\n",
      "-132.36956166004904\n",
      "0.007069650490151055\n",
      "-141.8418135298607\n",
      "-132.36936028773732\n",
      "-132.3695616412575\n",
      "0.00636268544113595\n",
      "-146.33940533862875\n",
      "-132.36914929839665\n",
      "-132.36956162893998\n",
      "0.005726416897022355\n",
      "-153.65615685082972\n",
      "-132.36931726324542\n",
      "-132.36956165190216\n",
      "0.00515377520732012\n",
      "-144.4216321477029\n",
      "-132.3693858949483\n",
      "-132.36956166556914\n",
      "0.004638397686588107\n",
      "-143.37396272607563\n",
      "-132.3694497749926\n",
      "-132.36956166982307\n",
      "0.0041745579179292966\n",
      "-144.3876310987151\n",
      "-132.36941048820574\n",
      "-132.36956166866858\n",
      "0.003757102126136367\n",
      "-145.0980042204589\n",
      "-132.3694643457646\n",
      "-132.36956167368243\n",
      "0.00338139191352273\n",
      "-141.1720357569061\n",
      "-132.36945197072217\n",
      "-132.369561674528\n",
      "0.0030432527221704573\n",
      "-147.26978727178798\n",
      "-132.3695350614158\n",
      "-132.36956167754926\n",
      "0.0027389274499534117\n",
      "-137.75638160977374\n",
      "-132.36953418442423\n",
      "-132.36956167759286\n",
      "0.0024650347049580707\n",
      "-146.33082013301194\n",
      "-132.3694897423395\n",
      "-132.36956167683235\n",
      "0.0022185312344622636\n",
      "-142.55015045584116\n",
      "-132.36952105107346\n",
      "-132.36956167765675\n",
      "0.001996678111016037\n",
      "-151.29724273409644\n",
      "-132.36956118374547\n",
      "-132.36956167828467\n",
      "0.0017970102999144335\n",
      "-147.8085746255711\n",
      "-132.36955999877216\n",
      "-132.36956167828117\n",
      "0.0016173092699229901\n",
      "-138.63307222781518\n",
      "-132.36953697464062\n",
      "-132.36956167808287\n",
      "0.0014555783429306911\n",
      "-141.24287055894914\n",
      "-132.3695210464849\n",
      "-132.3695616780017\n",
      "0.001310020508637622\n",
      "-137.12625123104414\n",
      "-132.36955934145834\n",
      "-132.36956167828794\n",
      "0.0011790184577738598\n",
      "-146.04850085923846\n",
      "-132.36954448529852\n",
      "-132.36956167823644\n",
      "0.0010611166119964739\n",
      "-140.28220221516997\n",
      "-132.36955487090566\n",
      "-132.36956167827344\n",
      "0.0009550049507968265\n",
      "-146.75873696573976\n",
      "-132.369560170987\n",
      "-132.36956167829433\n",
      "0.0008595044557171439\n",
      "-141.6591799509287\n",
      "-132.36955986148405\n",
      "-132.36956167829553\n",
      "0.0007735540101454295\n",
      "-144.1351233983485\n",
      "-132.36955926172504\n",
      "-132.3695616782957\n",
      "0.0006961986091308866\n",
      "-141.48491904859372\n",
      "-132.36956079974328\n",
      "-132.36956167829806\n",
      "0.0006265787482177979\n",
      "-139.67204116014202\n",
      "-132.3695598575357\n",
      "-132.3695616782969\n",
      "0.0005639208733960181\n",
      "-141.9901562219555\n",
      "-132.3695567449803\n",
      "-132.36956167829328\n",
      "0.0005075287860564164\n",
      "-145.20054449468276\n",
      "-132.36956141693312\n",
      "-132.36956167829894\n",
      "0.00045677590745077476\n",
      "-141.55090167679845\n",
      "-132.36956036106238\n",
      "-132.3695616782985\n",
      "0.0004110983167056973\n",
      "-139.80093680417883\n",
      "-132.36956034711955\n",
      "-132.36956167829854\n",
      "0.0003699884850351276\n",
      "-149.0175353916553\n",
      "-132.36956151152762\n",
      "-132.36956167829905\n",
      "0.00033298963653161486\n",
      "-141.00703249157553\n",
      "-132.36956100722603\n",
      "-132.369561678299\n",
      "0.0002996906728784534\n",
      "-143.05115021741486\n",
      "-132.36956131455344\n",
      "-132.36956167829905\n",
      "0.00026972160559060804\n",
      "-154.7089283119764\n",
      "-132.3695616770127\n",
      "-132.3695616782992\n",
      "0.00024274944503154723\n",
      "-146.49767366778462\n",
      "-132.3695615353265\n",
      "-132.36956167829914\n",
      "0.00021847450052839252\n",
      "-138.84625460503852\n",
      "-132.36956156977868\n",
      "-132.3695616782992\n",
      "0.00019662705047555326\n",
      "-149.77174080685745\n",
      "-132.36956157614517\n",
      "-132.36956167829916\n",
      "0.00017696434542799794\n",
      "-140.51574610569543\n",
      "-132.36956142034634\n",
      "-132.36956167829916\n",
      "0.00015926791088519815\n",
      "-143.52608783954142\n",
      "-132.36956142214595\n",
      "-132.36956167829916\n",
      "0.00014334111979667834\n",
      "-143.5495113184217\n",
      "-132.36956151458827\n",
      "-132.36956167829916\n",
      "0.00012900700781701051\n",
      "-144.7696810286404\n",
      "-132.36956167313724\n",
      "-132.3695616782992\n",
      "0.00011610630703530947\n",
      "-142.43833092829527\n",
      "-132.3695616697415\n",
      "-132.3695616782992\n",
      "0.00010449567633177853\n",
      "-146.10808327083075\n",
      "-132.36956159677985\n",
      "-132.3695616782992\n",
      "9.404610869860067e-05\n",
      "-139.10273407273476\n",
      "-132.36956165939483\n",
      "-132.3695616782992\n",
      "8.464149782874061e-05\n",
      "-146.81054112100938\n",
      "-132.36956164788845\n",
      "-132.3695616782992\n",
      "7.617734804586655e-05\n",
      "-150.38285337816203\n",
      "-132.36956163824615\n",
      "-132.3695616782992\n",
      "6.85596132412799e-05\n",
      "-145.9738039117845\n",
      "-132.36956164714744\n",
      "-132.3695616782992\n",
      "6.170365191715192e-05\n",
      "-151.49972653349656\n",
      "-132.36956165647516\n",
      "-132.3695616782992\n",
      "5.5533286725436733e-05\n",
      "-145.5829431895102\n",
      "-132.3695616439588\n",
      "-132.3695616782992\n",
      "4.997995805289306e-05\n",
      "-146.59009919317268\n",
      "-132.3695616367776\n",
      "-132.3695616782992\n",
      "4.4981962247603756e-05\n",
      "-148.1504291439276\n",
      "-132.36956167488674\n",
      "-132.3695616782992\n",
      "4.048376602284338e-05\n",
      "-145.3078624111364\n",
      "-132.36956167604865\n",
      "-132.3695616782992\n",
      "3.6435389420559045e-05\n",
      "-144.0012977332014\n",
      "-132.36956167300568\n",
      "-132.3695616782992\n",
      "3.279185047850314e-05\n",
      "-148.6889980810225\n",
      "-132.36956166912515\n",
      "-132.3695616782992\n",
      "2.9512665430652825e-05\n",
      "-146.39292041634533\n",
      "-132.36956167541567\n",
      "-132.3695616782992\n"
     ]
    }
   ],
   "source": [
    "pars = random_init_pars(2, n.shape)\n",
    "TEMsteps(0.9, pars, docs2bow)"
   ]
  },
  {
   "cell_type": "code",
   "execution_count": 45,
   "metadata": {},
   "outputs": [],
   "source": [
    "a = 1"
   ]
  },
  {
   "cell_type": "code",
   "execution_count": null,
   "metadata": {},
   "outputs": [],
   "source": []
  }
 ]
}