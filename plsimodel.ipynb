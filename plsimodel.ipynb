{
 "metadata": {
  "language_info": {
   "codemirror_mode": {
    "name": "ipython",
    "version": 3
   },
   "file_extension": ".py",
   "mimetype": "text/x-python",
   "name": "python",
   "nbconvert_exporter": "python",
   "pygments_lexer": "ipython3",
   "version": "3.7.3"
  },
  "orig_nbformat": 2,
  "kernelspec": {
   "name": "pythonjvsc74a57bd0689805486acef0e487c075666298695e9f8a8f9c117cf3a598c5305b99d19197",
   "display_name": "Python 3.7.3  ('.plsienv': venv)"
  },
  "metadata": {
   "interpreter": {
    "hash": "689805486acef0e487c075666298695e9f8a8f9c117cf3a598c5305b99d19197"
   }
  }
 },
 "nbformat": 4,
 "nbformat_minor": 2,
 "cells": [
  {
   "source": [
    "# Preparing data"
   ],
   "cell_type": "markdown",
   "metadata": {}
  },
  {
   "cell_type": "code",
   "execution_count": 2,
   "metadata": {},
   "outputs": [],
   "source": [
    "corpus = [\n",
    "    'Human machine interface for Lab ABC computer applications',\n",
    "    'A survey of user opinion of computer system response time',\n",
    "    'The EPS user interface management system',\n",
    "    'System and human system engineering testing of EPS',\n",
    "    'Relation of user-perceived response time to error measurement',\n",
    "    'The generation of random, binary, unordered trees',\n",
    "    'The intersection graph of paths in trees',\n",
    "    'Graph minors IV: Width of trees and well-quasi-ordering',\n",
    "    'Graph minors: A survey'\n",
    "]\n",
    "stoplist = set('for a of the and to'.split())"
   ]
  },
  {
   "cell_type": "code",
   "execution_count": 3,
   "metadata": {},
   "outputs": [],
   "source": [
    "# creating generator object for streaming tweets\n",
    "class Tweets:\n",
    "    def __iter__(self):\n",
    "        for tweet in corpus:\n",
    "            yield tweet"
   ]
  },
  {
   "cell_type": "code",
   "execution_count": 4,
   "metadata": {},
   "outputs": [
    {
     "output_type": "stream",
     "name": "stdout",
     "text": [
      "0 [(0, 1), (1, 1), (2, 1), (3, 1), (4, 1), (5, 1), (6, 1)]\n1 [(7, 1), (8, 1), (9, 1), (5, 1), (10, 1), (11, 1), (12, 1)]\n2 [(13, 1), (8, 1), (2, 1), (14, 1), (10, 1)]\n3 [(10, 2), (0, 1), (15, 1), (16, 1), (13, 1)]\n4 [(17, 1), (8, 1), (18, 1), (11, 1), (12, 1), (19, 1), (20, 1)]\n5 [(21, 1), (22, 1), (23, 1), (24, 1), (25, 1)]\n6 [(26, 1), (27, 1), (28, 1), (29, 1), (25, 1)]\n7 [(27, 1), (30, 1), (31, 1), (32, 1), (25, 1), (33, 1), (34, 1), (35, 1)]\n8 [(27, 1), (30, 1), (7, 1)]\n"
     ]
    }
   ],
   "source": [
    "# streaming corpus and storing documents in bow representation\n",
    "import re\n",
    "from collections import defaultdict\n",
    "\n",
    "tweets = Tweets()\n",
    "# token2id : dict of (str, int)\n",
    "#   token -> tokenId\n",
    "token2id = {}\n",
    "# idf: dict of (int, int)\n",
    "#   tokenId -> how many instances of this token are contained in the documents\n",
    "idf = defaultdict(int)\n",
    "docs2bow = []\n",
    "for docno, tweet in enumerate(tweets):\n",
    "    document = re.sub(r'[-,:.]', ' ', tweet.lower()).split()\n",
    "    counter = defaultdict(int)\n",
    "    for word in document:\n",
    "        if word in stoplist: continue\n",
    "        if word not in token2id: token2id[word] = len(token2id)\n",
    "        counter[word] += 1\n",
    "        idf[token2id[word]] += 1\n",
    "    doc2bow = [(token2id[word], freq) for word, freq in counter.items()]\n",
    "    print(docno, doc2bow)\n",
    "    docs2bow.append(doc2bow)"
   ]
  },
  {
   "cell_type": "code",
   "execution_count": 5,
   "metadata": {},
   "outputs": [
    {
     "output_type": "execute_result",
     "data": {
      "text/plain": [
       "{'human': 0,\n",
       " 'machine': 1,\n",
       " 'interface': 2,\n",
       " 'lab': 3,\n",
       " 'abc': 4,\n",
       " 'computer': 5,\n",
       " 'applications': 6,\n",
       " 'survey': 7,\n",
       " 'user': 8,\n",
       " 'opinion': 9,\n",
       " 'system': 10,\n",
       " 'response': 11,\n",
       " 'time': 12,\n",
       " 'eps': 13,\n",
       " 'management': 14,\n",
       " 'engineering': 15,\n",
       " 'testing': 16,\n",
       " 'relation': 17,\n",
       " 'perceived': 18,\n",
       " 'error': 19,\n",
       " 'measurement': 20,\n",
       " 'generation': 21,\n",
       " 'random': 22,\n",
       " 'binary': 23,\n",
       " 'unordered': 24,\n",
       " 'trees': 25,\n",
       " 'intersection': 26,\n",
       " 'graph': 27,\n",
       " 'paths': 28,\n",
       " 'in': 29,\n",
       " 'minors': 30,\n",
       " 'iv': 31,\n",
       " 'width': 32,\n",
       " 'well': 33,\n",
       " 'quasi': 34,\n",
       " 'ordering': 35}"
      ]
     },
     "metadata": {},
     "execution_count": 5
    }
   ],
   "source": [
    "token2id"
   ]
  },
  {
   "cell_type": "code",
   "execution_count": 6,
   "metadata": {},
   "outputs": [
    {
     "output_type": "execute_result",
     "data": {
      "text/plain": [
       "36"
      ]
     },
     "metadata": {},
     "execution_count": 6
    }
   ],
   "source": [
    "len(idf)"
   ]
  },
  {
   "cell_type": "code",
   "execution_count": 7,
   "metadata": {},
   "outputs": [
    {
     "output_type": "execute_result",
     "data": {
      "text/plain": [
       "defaultdict(int,\n",
       "            {0: 2,\n",
       "             1: 1,\n",
       "             2: 2,\n",
       "             3: 1,\n",
       "             4: 1,\n",
       "             5: 2,\n",
       "             6: 1,\n",
       "             7: 2,\n",
       "             8: 3,\n",
       "             9: 1,\n",
       "             10: 4,\n",
       "             11: 2,\n",
       "             12: 2,\n",
       "             13: 2,\n",
       "             14: 1,\n",
       "             15: 1,\n",
       "             16: 1,\n",
       "             17: 1,\n",
       "             18: 1,\n",
       "             19: 1,\n",
       "             20: 1,\n",
       "             21: 1,\n",
       "             22: 1,\n",
       "             23: 1,\n",
       "             24: 1,\n",
       "             25: 3,\n",
       "             26: 1,\n",
       "             27: 3,\n",
       "             28: 1,\n",
       "             29: 1,\n",
       "             30: 2,\n",
       "             31: 1,\n",
       "             32: 1,\n",
       "             33: 1,\n",
       "             34: 1,\n",
       "             35: 1})"
      ]
     },
     "metadata": {},
     "execution_count": 7
    }
   ],
   "source": [
    "idf"
   ]
  },
  {
   "cell_type": "code",
   "execution_count": 8,
   "metadata": {},
   "outputs": [
    {
     "output_type": "execute_result",
     "data": {
      "text/plain": [
       "9"
      ]
     },
     "metadata": {},
     "execution_count": 8
    }
   ],
   "source": [
    "len(docs2bow)"
   ]
  },
  {
   "cell_type": "code",
   "execution_count": 9,
   "metadata": {},
   "outputs": [
    {
     "output_type": "execute_result",
     "data": {
      "text/plain": [
       "[[(0, 1), (1, 1), (2, 1), (3, 1), (4, 1), (5, 1), (6, 1)],\n",
       " [(7, 1), (8, 1), (9, 1), (5, 1), (10, 1), (11, 1), (12, 1)],\n",
       " [(13, 1), (8, 1), (2, 1), (14, 1), (10, 1)],\n",
       " [(10, 2), (0, 1), (15, 1), (16, 1), (13, 1)],\n",
       " [(17, 1), (8, 1), (18, 1), (11, 1), (12, 1), (19, 1), (20, 1)],\n",
       " [(21, 1), (22, 1), (23, 1), (24, 1), (25, 1)],\n",
       " [(26, 1), (27, 1), (28, 1), (29, 1), (25, 1)],\n",
       " [(27, 1), (30, 1), (31, 1), (32, 1), (25, 1), (33, 1), (34, 1), (35, 1)],\n",
       " [(27, 1), (30, 1), (7, 1)]]"
      ]
     },
     "metadata": {},
     "execution_count": 9
    }
   ],
   "source": [
    "docs2bow"
   ]
  },
  {
   "cell_type": "code",
   "execution_count": 10,
   "metadata": {},
   "outputs": [],
   "source": [
    "# filter once words\n",
    "bad_ids = set(tokenid for tokenid, freq in idf.items() if freq == 1)\n",
    "token2id = {token: tokenid for token, tokenid in token2id.items() if idf[tokenid] > 1}\n",
    "idf = {tokenid: freq for tokenid, freq in idf.items() if freq > 1}"
   ]
  },
  {
   "cell_type": "code",
   "execution_count": 11,
   "metadata": {},
   "outputs": [
    {
     "output_type": "execute_result",
     "data": {
      "text/plain": [
       "{1,\n",
       " 3,\n",
       " 4,\n",
       " 6,\n",
       " 9,\n",
       " 14,\n",
       " 15,\n",
       " 16,\n",
       " 17,\n",
       " 18,\n",
       " 19,\n",
       " 20,\n",
       " 21,\n",
       " 22,\n",
       " 23,\n",
       " 24,\n",
       " 26,\n",
       " 28,\n",
       " 29,\n",
       " 31,\n",
       " 32,\n",
       " 33,\n",
       " 34,\n",
       " 35}"
      ]
     },
     "metadata": {},
     "execution_count": 11
    }
   ],
   "source": [
    "bad_ids"
   ]
  },
  {
   "cell_type": "code",
   "execution_count": 12,
   "metadata": {},
   "outputs": [
    {
     "output_type": "execute_result",
     "data": {
      "text/plain": [
       "{'human': 0,\n",
       " 'interface': 2,\n",
       " 'computer': 5,\n",
       " 'survey': 7,\n",
       " 'user': 8,\n",
       " 'system': 10,\n",
       " 'response': 11,\n",
       " 'time': 12,\n",
       " 'eps': 13,\n",
       " 'trees': 25,\n",
       " 'graph': 27,\n",
       " 'minors': 30}"
      ]
     },
     "metadata": {},
     "execution_count": 12
    }
   ],
   "source": [
    "token2id"
   ]
  },
  {
   "cell_type": "code",
   "execution_count": 13,
   "metadata": {},
   "outputs": [
    {
     "output_type": "execute_result",
     "data": {
      "text/plain": [
       "{0: 2, 2: 2, 5: 2, 7: 2, 8: 3, 10: 4, 11: 2, 12: 2, 13: 2, 25: 3, 27: 3, 30: 2}"
      ]
     },
     "metadata": {},
     "execution_count": 13
    }
   ],
   "source": [
    "idf"
   ]
  },
  {
   "cell_type": "code",
   "execution_count": 14,
   "metadata": {},
   "outputs": [
    {
     "output_type": "execute_result",
     "data": {
      "text/plain": [
       "{0: 0,\n",
       " 2: 1,\n",
       " 5: 2,\n",
       " 7: 3,\n",
       " 8: 4,\n",
       " 10: 5,\n",
       " 11: 6,\n",
       " 12: 7,\n",
       " 13: 8,\n",
       " 25: 9,\n",
       " 27: 10,\n",
       " 30: 11}"
      ]
     },
     "metadata": {},
     "execution_count": 14
    }
   ],
   "source": [
    "idmap = dict(zip(sorted(token2id.values()), range(len(token2id))))\n",
    "idmap"
   ]
  },
  {
   "cell_type": "code",
   "execution_count": 15,
   "metadata": {},
   "outputs": [],
   "source": [
    "# note this cell is one time run\n",
    "token2id = {token: idmap[tokenid] for token, tokenid in token2id.items()}\n",
    "idf = {idmap[tokenid]: freq for tokenid, freq in idf.items()}"
   ]
  },
  {
   "cell_type": "code",
   "execution_count": 16,
   "metadata": {},
   "outputs": [
    {
     "output_type": "execute_result",
     "data": {
      "text/plain": [
       "{'human': 0,\n",
       " 'interface': 1,\n",
       " 'computer': 2,\n",
       " 'survey': 3,\n",
       " 'user': 4,\n",
       " 'system': 5,\n",
       " 'response': 6,\n",
       " 'time': 7,\n",
       " 'eps': 8,\n",
       " 'trees': 9,\n",
       " 'graph': 10,\n",
       " 'minors': 11}"
      ]
     },
     "metadata": {},
     "execution_count": 16
    }
   ],
   "source": [
    "token2id"
   ]
  },
  {
   "cell_type": "code",
   "execution_count": 17,
   "metadata": {},
   "outputs": [
    {
     "output_type": "execute_result",
     "data": {
      "text/plain": [
       "{0: 2, 1: 2, 2: 2, 3: 2, 4: 3, 5: 4, 6: 2, 7: 2, 8: 2, 9: 3, 10: 3, 11: 2}"
      ]
     },
     "metadata": {},
     "execution_count": 17
    }
   ],
   "source": [
    "idf"
   ]
  },
  {
   "cell_type": "code",
   "execution_count": 18,
   "metadata": {},
   "outputs": [
    {
     "output_type": "execute_result",
     "data": {
      "text/plain": [
       "[[(0, 1), (1, 1), (2, 1), (3, 1), (4, 1), (5, 1), (6, 1)],\n",
       " [(7, 1), (8, 1), (9, 1), (5, 1), (10, 1), (11, 1), (12, 1)],\n",
       " [(13, 1), (8, 1), (2, 1), (14, 1), (10, 1)],\n",
       " [(10, 2), (0, 1), (15, 1), (16, 1), (13, 1)],\n",
       " [(17, 1), (8, 1), (18, 1), (11, 1), (12, 1), (19, 1), (20, 1)],\n",
       " [(21, 1), (22, 1), (23, 1), (24, 1), (25, 1)],\n",
       " [(26, 1), (27, 1), (28, 1), (29, 1), (25, 1)],\n",
       " [(27, 1), (30, 1), (31, 1), (32, 1), (25, 1), (33, 1), (34, 1), (35, 1)],\n",
       " [(27, 1), (30, 1), (7, 1)]]"
      ]
     },
     "metadata": {},
     "execution_count": 18
    }
   ],
   "source": [
    "docs2bow"
   ]
  },
  {
   "cell_type": "code",
   "execution_count": 19,
   "metadata": {},
   "outputs": [],
   "source": [
    "# rebuild docs2bow\n",
    "docs2bow = [\n",
    "    [(idmap[tokenid], docfreq) for tokenid, docfreq in doc2bow if tokenid not in bad_ids]\n",
    "    for doc2bow in docs2bow\n",
    "]"
   ]
  },
  {
   "cell_type": "code",
   "execution_count": 20,
   "metadata": {},
   "outputs": [
    {
     "output_type": "execute_result",
     "data": {
      "text/plain": [
       "[[(0, 1), (1, 1), (2, 1)],\n",
       " [(3, 1), (4, 1), (2, 1), (5, 1), (6, 1), (7, 1)],\n",
       " [(8, 1), (4, 1), (1, 1), (5, 1)],\n",
       " [(5, 2), (0, 1), (8, 1)],\n",
       " [(4, 1), (6, 1), (7, 1)],\n",
       " [(9, 1)],\n",
       " [(10, 1), (9, 1)],\n",
       " [(10, 1), (11, 1), (9, 1)],\n",
       " [(10, 1), (11, 1), (3, 1)]]"
      ]
     },
     "metadata": {},
     "execution_count": 20
    }
   ],
   "source": [
    "docs2bow"
   ]
  },
  {
   "cell_type": "code",
   "execution_count": 21,
   "metadata": {},
   "outputs": [
    {
     "output_type": "execute_result",
     "data": {
      "text/plain": [
       "array([[1., 1., 1., 0., 0., 0., 0., 0., 0., 0., 0., 0.],\n",
       "       [0., 0., 1., 1., 1., 1., 1., 1., 0., 0., 0., 0.],\n",
       "       [0., 1., 0., 0., 1., 1., 0., 0., 1., 0., 0., 0.],\n",
       "       [1., 0., 0., 0., 0., 2., 0., 0., 1., 0., 0., 0.],\n",
       "       [0., 0., 0., 0., 1., 0., 1., 1., 0., 0., 0., 0.],\n",
       "       [0., 0., 0., 0., 0., 0., 0., 0., 0., 1., 0., 0.],\n",
       "       [0., 0., 0., 0., 0., 0., 0., 0., 0., 1., 1., 0.],\n",
       "       [0., 0., 0., 0., 0., 0., 0., 0., 0., 1., 1., 1.],\n",
       "       [0., 0., 0., 1., 0., 0., 0., 0., 0., 0., 1., 1.]])"
      ]
     },
     "metadata": {},
     "execution_count": 21
    }
   ],
   "source": [
    "# not necessary\n",
    "# creating words2bod by docs2bow -> n -> n.T -> words2bod\n",
    "import numpy as np\n",
    "\n",
    "n = np.zeros((len(docs2bow), len(idf)))\n",
    "for docno, doc2bow in enumerate(docs2bow):\n",
    "    for tokenid, docfreq in doc2bow:\n",
    "        n[docno, tokenid] += docfreq\n",
    "n"
   ]
  },
  {
   "cell_type": "code",
   "execution_count": 22,
   "metadata": {},
   "outputs": [
    {
     "output_type": "execute_result",
     "data": {
      "text/plain": [
       "array([[1., 0., 0., 1., 0., 0., 0., 0., 0.],\n",
       "       [1., 0., 1., 0., 0., 0., 0., 0., 0.],\n",
       "       [1., 1., 0., 0., 0., 0., 0., 0., 0.],\n",
       "       [0., 1., 0., 0., 0., 0., 0., 0., 1.],\n",
       "       [0., 1., 1., 0., 1., 0., 0., 0., 0.],\n",
       "       [0., 1., 1., 2., 0., 0., 0., 0., 0.],\n",
       "       [0., 1., 0., 0., 1., 0., 0., 0., 0.],\n",
       "       [0., 1., 0., 0., 1., 0., 0., 0., 0.],\n",
       "       [0., 0., 1., 1., 0., 0., 0., 0., 0.],\n",
       "       [0., 0., 0., 0., 0., 1., 1., 1., 0.],\n",
       "       [0., 0., 0., 0., 0., 0., 1., 1., 1.],\n",
       "       [0., 0., 0., 0., 0., 0., 0., 1., 1.]])"
      ]
     },
     "metadata": {},
     "execution_count": 22
    }
   ],
   "source": [
    "n.T"
   ]
  },
  {
   "cell_type": "code",
   "execution_count": 23,
   "metadata": {},
   "outputs": [],
   "source": [
    "words2bod = [\n",
    "    [(tokenid, int(docfreq)) for tokenid, docfreq in enumerate(rows) if docfreq != 0]\n",
    "    for rows in n.T\n",
    "]"
   ]
  },
  {
   "cell_type": "code",
   "execution_count": 24,
   "metadata": {},
   "outputs": [
    {
     "output_type": "execute_result",
     "data": {
      "text/plain": [
       "[[(0, 1), (3, 1)],\n",
       " [(0, 1), (2, 1)],\n",
       " [(0, 1), (1, 1)],\n",
       " [(1, 1), (8, 1)],\n",
       " [(1, 1), (2, 1), (4, 1)],\n",
       " [(1, 1), (2, 1), (3, 2)],\n",
       " [(1, 1), (4, 1)],\n",
       " [(1, 1), (4, 1)],\n",
       " [(2, 1), (3, 1)],\n",
       " [(5, 1), (6, 1), (7, 1)],\n",
       " [(6, 1), (7, 1), (8, 1)],\n",
       " [(7, 1), (8, 1)]]"
      ]
     },
     "metadata": {},
     "execution_count": 24
    }
   ],
   "source": [
    "words2bod"
   ]
  },
  {
   "source": [
    "# Creating model"
   ],
   "cell_type": "markdown",
   "metadata": {}
  },
  {
   "cell_type": "code",
   "execution_count": 25,
   "metadata": {},
   "outputs": [],
   "source": [
    "from numpy.random import rand\n",
    "\n",
    "def random_init_pars(K, nshape):\n",
    "    N, M = nshape\n",
    "    Pz = rand(K); Pz /= sum(Pz)\n",
    "    Pd_z = rand(N, K); Pd_z /= Pd_z.sum(axis=0)\n",
    "    Pw_z = rand(M, K); Pw_z /= Pw_z.sum(axis=0)\n",
    "    return Pz, Pd_z, Pw_z"
   ]
  },
  {
   "cell_type": "code",
   "execution_count": 26,
   "metadata": {},
   "outputs": [
    {
     "output_type": "execute_result",
     "data": {
      "text/plain": [
       "(9, 12)"
      ]
     },
     "metadata": {},
     "execution_count": 26
    }
   ],
   "source": [
    "n.shape"
   ]
  },
  {
   "cell_type": "code",
   "execution_count": 27,
   "metadata": {},
   "outputs": [
    {
     "output_type": "execute_result",
     "data": {
      "text/plain": [
       "(array([0.49618235, 0.50381765]),\n",
       " array([[0.24017577, 0.00319712],\n",
       "        [0.02037474, 0.20418364],\n",
       "        [0.04402558, 0.06640551],\n",
       "        [0.00535817, 0.03897521],\n",
       "        [0.26670851, 0.26499334],\n",
       "        [0.03290032, 0.0345124 ],\n",
       "        [0.05652351, 0.24073745],\n",
       "        [0.2233123 , 0.02809495],\n",
       "        [0.11062111, 0.11890037]]),\n",
       " array([[0.00788052, 0.05322251],\n",
       "        [0.16026813, 0.00164663],\n",
       "        [0.0589495 , 0.13894397],\n",
       "        [0.01442603, 0.09914995],\n",
       "        [0.1546381 , 0.15847812],\n",
       "        [0.00462335, 0.0147897 ],\n",
       "        [0.04215835, 0.10171697],\n",
       "        [0.11672914, 0.12765218],\n",
       "        [0.11663489, 0.01353102],\n",
       "        [0.14221795, 0.13781462],\n",
       "        [0.17644767, 0.0132027 ],\n",
       "        [0.00502639, 0.13985163]]))"
      ]
     },
     "metadata": {},
     "execution_count": 27
    }
   ],
   "source": [
    "random_init_pars(2, n.shape)"
   ]
  },
  {
   "cell_type": "code",
   "execution_count": 28,
   "metadata": {},
   "outputs": [],
   "source": [
    "def likelihood(pars, docs2bow):\n",
    "    Pz, Pd_z, Pw_z = pars\n",
    "    L = 0\n",
    "    for d, doc2bow in enumerate(docs2bow):\n",
    "        for w, ndw in doc2bow:\n",
    "            Pcocur = sum(Pz[:] * Pd_z[d,:] * Pw_z[w, :])\n",
    "            L += ndw * np.log(Pcocur)\n",
    "    return L"
   ]
  },
  {
   "cell_type": "code",
   "execution_count": 29,
   "metadata": {},
   "outputs": [
    {
     "output_type": "execute_result",
     "data": {
      "text/plain": [
       "-143.45467823408416"
      ]
     },
     "metadata": {},
     "execution_count": 29
    }
   ],
   "source": [
    "likelihood(random_init_pars(2, n.shape), docs2bow)"
   ]
  },
  {
   "source": [
    "## EM"
   ],
   "cell_type": "markdown",
   "metadata": {}
  },
  {
   "cell_type": "code",
   "execution_count": 30,
   "metadata": {},
   "outputs": [],
   "source": [
    "def Estep(pars, docs2bow):  # no necessity to pass docs2bow (datas) to Estep, but it could decrease computations\n",
    "    Pz, Pd_z, Pw_z = pars\n",
    "    poster = np.zeros((len(Pz), len(Pd_z), len(Pw_z))) \n",
    "    # poster could be an attribute and no need to reset to zeros because it's not accumulative\n",
    "    for z in range(len(Pz)):\n",
    "        for d, doc2bow in enumerate(docs2bow):\n",
    "            for w, ndw in doc2bow:\n",
    "                poster[z, d, w] = Pz[z] * Pd_z[d, z] * Pw_z[w, z]\n",
    "    # normalization\n",
    "    poster /= poster.sum(axis=0) + 1e-16\n",
    "    return poster"
   ]
  },
  {
   "cell_type": "code",
   "execution_count": 31,
   "metadata": {},
   "outputs": [
    {
     "output_type": "execute_result",
     "data": {
      "text/plain": [
       "array([[[9.87440226e-01, 9.98404137e-01, 9.83882307e-01, 0.00000000e+00,\n",
       "         0.00000000e+00, 0.00000000e+00, 0.00000000e+00, 0.00000000e+00,\n",
       "         0.00000000e+00, 0.00000000e+00, 0.00000000e+00, 0.00000000e+00],\n",
       "        [0.00000000e+00, 0.00000000e+00, 9.98983257e-01, 9.98392318e-01,\n",
       "         9.96667561e-01, 9.98602666e-01, 9.95672575e-01, 9.99987863e-01,\n",
       "         0.00000000e+00, 0.00000000e+00, 0.00000000e+00, 0.00000000e+00],\n",
       "        [0.00000000e+00, 9.99508090e-01, 0.00000000e+00, 0.00000000e+00,\n",
       "         9.83699847e-01, 9.93113107e-01, 0.00000000e+00, 0.00000000e+00,\n",
       "         9.72758933e-01, 0.00000000e+00, 0.00000000e+00, 0.00000000e+00],\n",
       "        [9.96747162e-01, 0.00000000e+00, 0.00000000e+00, 0.00000000e+00,\n",
       "         0.00000000e+00, 9.94254630e-01, 0.00000000e+00, 0.00000000e+00,\n",
       "         9.77196755e-01, 0.00000000e+00, 0.00000000e+00, 0.00000000e+00],\n",
       "        [0.00000000e+00, 0.00000000e+00, 0.00000000e+00, 0.00000000e+00,\n",
       "         8.61932938e-01, 0.00000000e+00, 8.27665367e-01, 9.99418862e-01,\n",
       "         0.00000000e+00, 0.00000000e+00, 0.00000000e+00, 0.00000000e+00],\n",
       "        [0.00000000e+00, 0.00000000e+00, 0.00000000e+00, 0.00000000e+00,\n",
       "         0.00000000e+00, 0.00000000e+00, 0.00000000e+00, 0.00000000e+00,\n",
       "         0.00000000e+00, 9.93653551e-01, 0.00000000e+00, 0.00000000e+00],\n",
       "        [0.00000000e+00, 0.00000000e+00, 0.00000000e+00, 0.00000000e+00,\n",
       "         0.00000000e+00, 0.00000000e+00, 0.00000000e+00, 0.00000000e+00,\n",
       "         0.00000000e+00, 9.84858713e-01, 9.87023683e-01, 0.00000000e+00],\n",
       "        [0.00000000e+00, 0.00000000e+00, 0.00000000e+00, 0.00000000e+00,\n",
       "         0.00000000e+00, 0.00000000e+00, 0.00000000e+00, 0.00000000e+00,\n",
       "         0.00000000e+00, 9.70710964e-01, 9.74847179e-01, 9.77752668e-01],\n",
       "        [0.00000000e+00, 0.00000000e+00, 0.00000000e+00, 8.86765852e-01,\n",
       "         0.00000000e+00, 0.00000000e+00, 0.00000000e+00, 0.00000000e+00,\n",
       "         0.00000000e+00, 0.00000000e+00, 9.01650733e-01, 9.12250313e-01]],\n",
       "\n",
       "       [[1.25597745e-02, 1.59586267e-03, 1.61176929e-02, 0.00000000e+00,\n",
       "         0.00000000e+00, 0.00000000e+00, 0.00000000e+00, 0.00000000e+00,\n",
       "         0.00000000e+00, 0.00000000e+00, 0.00000000e+00, 0.00000000e+00],\n",
       "        [0.00000000e+00, 0.00000000e+00, 1.01674339e-03, 1.60768178e-03,\n",
       "         3.33243880e-03, 1.39733364e-03, 4.32742528e-03, 1.21372874e-05,\n",
       "         0.00000000e+00, 0.00000000e+00, 0.00000000e+00, 0.00000000e+00],\n",
       "        [0.00000000e+00, 4.91910498e-04, 0.00000000e+00, 0.00000000e+00,\n",
       "         1.63001527e-02, 6.88689273e-03, 0.00000000e+00, 0.00000000e+00,\n",
       "         2.72410672e-02, 0.00000000e+00, 0.00000000e+00, 0.00000000e+00],\n",
       "        [3.25283789e-03, 0.00000000e+00, 0.00000000e+00, 0.00000000e+00,\n",
       "         0.00000000e+00, 5.74536970e-03, 0.00000000e+00, 0.00000000e+00,\n",
       "         2.28032453e-02, 0.00000000e+00, 0.00000000e+00, 0.00000000e+00],\n",
       "        [0.00000000e+00, 0.00000000e+00, 0.00000000e+00, 0.00000000e+00,\n",
       "         1.38067062e-01, 0.00000000e+00, 1.72334633e-01, 5.81137895e-04,\n",
       "         0.00000000e+00, 0.00000000e+00, 0.00000000e+00, 0.00000000e+00],\n",
       "        [0.00000000e+00, 0.00000000e+00, 0.00000000e+00, 0.00000000e+00,\n",
       "         0.00000000e+00, 0.00000000e+00, 0.00000000e+00, 0.00000000e+00,\n",
       "         0.00000000e+00, 6.34644867e-03, 0.00000000e+00, 0.00000000e+00],\n",
       "        [0.00000000e+00, 0.00000000e+00, 0.00000000e+00, 0.00000000e+00,\n",
       "         0.00000000e+00, 0.00000000e+00, 0.00000000e+00, 0.00000000e+00,\n",
       "         0.00000000e+00, 1.51412867e-02, 1.29763171e-02, 0.00000000e+00],\n",
       "        [0.00000000e+00, 0.00000000e+00, 0.00000000e+00, 0.00000000e+00,\n",
       "         0.00000000e+00, 0.00000000e+00, 0.00000000e+00, 0.00000000e+00,\n",
       "         0.00000000e+00, 2.92890358e-02, 2.51528212e-02, 2.22473323e-02],\n",
       "        [0.00000000e+00, 0.00000000e+00, 0.00000000e+00, 1.13234148e-01,\n",
       "         0.00000000e+00, 0.00000000e+00, 0.00000000e+00, 0.00000000e+00,\n",
       "         0.00000000e+00, 0.00000000e+00, 9.83492667e-02, 8.77496868e-02]]])"
      ]
     },
     "metadata": {},
     "execution_count": 31
    }
   ],
   "source": [
    "poster = Estep(random_init_pars(2, n.shape), docs2bow)\n",
    "poster"
   ]
  },
  {
   "cell_type": "code",
   "execution_count": 32,
   "metadata": {},
   "outputs": [
    {
     "output_type": "execute_result",
     "data": {
      "text/plain": [
       "(2, 9, 12)"
      ]
     },
     "metadata": {},
     "execution_count": 32
    }
   ],
   "source": [
    "poster.shape"
   ]
  },
  {
   "cell_type": "code",
   "execution_count": 33,
   "metadata": {},
   "outputs": [
    {
     "output_type": "execute_result",
     "data": {
      "text/plain": [
       "array([[1., 1., 1., 0., 0., 0., 0., 0., 0., 0., 0., 0.],\n",
       "       [0., 0., 1., 1., 1., 1., 1., 1., 0., 0., 0., 0.],\n",
       "       [0., 1., 0., 0., 1., 1., 0., 0., 1., 0., 0., 0.],\n",
       "       [1., 0., 0., 0., 0., 1., 0., 0., 1., 0., 0., 0.],\n",
       "       [0., 0., 0., 0., 1., 0., 1., 1., 0., 0., 0., 0.],\n",
       "       [0., 0., 0., 0., 0., 0., 0., 0., 0., 1., 0., 0.],\n",
       "       [0., 0., 0., 0., 0., 0., 0., 0., 0., 1., 1., 0.],\n",
       "       [0., 0., 0., 0., 0., 0., 0., 0., 0., 1., 1., 1.],\n",
       "       [0., 0., 0., 1., 0., 0., 0., 0., 0., 0., 1., 1.]])"
      ]
     },
     "metadata": {},
     "execution_count": 33
    }
   ],
   "source": [
    "poster.sum(axis=0)"
   ]
  },
  {
   "cell_type": "code",
   "execution_count": 34,
   "metadata": {},
   "outputs": [],
   "source": [
    "def Mstep(poster, docs2bow):\n",
    "    K, N, M = poster.shape  # K, N, M could be in an attribute self.archit\n",
    "    rePz, rePd_z, rePw_z = np.zeros(K), np.zeros((N, K)), np.zeros((M, K))  # should reset to zeros because they're accumulative\n",
    "    for z in range(K):\n",
    "        for d, doc2bow in enumerate(docs2bow):\n",
    "            for w, ndw in doc2bow:\n",
    "                rePz[z] += ndw * poster[z, d, w]\n",
    "                rePd_z[d, z] += ndw * poster[z, d, w]\n",
    "                rePw_z[w, z] += ndw * poster[z, d, w]\n",
    "    # normalization\n",
    "    rePz /= sum(rePz)\n",
    "    rePd_z /= rePd_z.sum(axis=0)\n",
    "    rePw_z /= rePw_z.sum(axis=0)\n",
    "    repars = rePz, rePd_z, rePw_z\n",
    "    return repars"
   ]
  },
  {
   "cell_type": "code",
   "execution_count": 35,
   "metadata": {},
   "outputs": [
    {
     "output_type": "stream",
     "name": "stdout",
     "text": [
      "(array([0.19555718, 0.80444282]), array([[0.08534696, 0.13615132],\n       [0.14966593, 0.12054768],\n       [0.13836784, 0.04314788],\n       [0.16099762, 0.06781372],\n       [0.09391494, 0.16937266],\n       [0.14685896, 0.09465879],\n       [0.07578394, 0.05495641],\n       [0.06956894, 0.14007059],\n       [0.07949486, 0.17328096]]), array([[0.09863571, 0.05794208],\n       [0.01075248, 0.08140081],\n       [0.14532812, 0.04372814],\n       [0.10806508, 0.14478934],\n       [0.025386  , 0.15304327],\n       [0.13033239, 0.11840222],\n       [0.14451491, 0.05847868],\n       [0.03146635, 0.01942027],\n       [0.04313178, 0.05814275],\n       [0.15865459, 0.13463023],\n       [0.01282426, 0.04763407],\n       [0.09090832, 0.08238814]]))\n-139.3817134095335\n(array([0.22487802, 0.77512198]), array([[0.08616085, 0.1084637 ],\n       [0.26639842, 0.1896339 ],\n       [0.15887466, 0.13185488],\n       [0.24110277, 0.1079989 ],\n       [0.06915587, 0.11339717],\n       [0.04718229, 0.03079838],\n       [0.05611589, 0.07269345],\n       [0.04195477, 0.12128874],\n       [0.03305449, 0.12387089]]), array([[0.10757651, 0.05776372],\n       [0.01734175, 0.08394258],\n       [0.12833816, 0.05174035],\n       [0.03997418, 0.07737647],\n       [0.02822231, 0.1252728 ],\n       [0.22819646, 0.11174327],\n       [0.10382485, 0.05885215],\n       [0.07784684, 0.06638887],\n       [0.10215427, 0.05933681],\n       [0.1097049 , 0.10163311],\n       [0.0219908 , 0.12708068],\n       [0.03482898, 0.07886919]]))\n-131.29857540393374\n"
     ]
    }
   ],
   "source": [
    "pars = random_init_pars(2, n.shape)\n",
    "print(pars)\n",
    "print(likelihood(pars, docs2bow))\n",
    "poster = Estep(pars, docs2bow)\n",
    "repars = Mstep(poster, docs2bow)\n",
    "print(repars)\n",
    "print(likelihood(repars, docs2bow))"
   ]
  },
  {
   "cell_type": "code",
   "execution_count": 36,
   "metadata": {},
   "outputs": [
    {
     "output_type": "execute_result",
     "data": {
      "text/plain": [
       "array([1., 1.])"
      ]
     },
     "metadata": {},
     "execution_count": 36
    }
   ],
   "source": [
    "repars[1].sum(axis=0)"
   ]
  },
  {
   "cell_type": "code",
   "execution_count": 37,
   "metadata": {},
   "outputs": [],
   "source": [
    "def EMsteps(runtimes, pars, docs2bow):\n",
    "    print(pars)\n",
    "    print(likelihood(pars, docs2bow))\n",
    "    for runtime in range(runtimes):\n",
    "        poster = Estep(pars, docs2bow)\n",
    "        pars = Mstep(poster, docs2bow)\n",
    "        print(likelihood(pars, docs2bow))\n",
    "    print(pars)"
   ]
  },
  {
   "cell_type": "code",
   "execution_count": 38,
   "metadata": {},
   "outputs": [
    {
     "output_type": "stream",
     "name": "stdout",
     "text": [
      "(array([0.47331385, 0.52668615]), array([[0.08236489, 0.00334624],\n       [0.11998971, 0.1704088 ],\n       [0.17178746, 0.16975619],\n       [0.16856073, 0.2157802 ],\n       [0.13364863, 0.08504464],\n       [0.02331704, 0.02096964],\n       [0.02224275, 0.10964779],\n       [0.17764289, 0.07725717],\n       [0.1004459 , 0.14778932]]), array([[0.12752271, 0.08895465],\n       [0.07347365, 0.11452595],\n       [0.04443009, 0.05826757],\n       [0.00773927, 0.14122527],\n       [0.1280065 , 0.05825534],\n       [0.07095333, 0.04084363],\n       [0.08989961, 0.10945249],\n       [0.05307987, 0.10556949],\n       [0.10623924, 0.08311566],\n       [0.03515248, 0.00018809],\n       [0.13882743, 0.10148599],\n       [0.12467582, 0.09811585]]))\n-140.29601697625432\n-130.0205738916738\n-128.5568875520204\n-126.87793709409482\n-125.0463910501091\n-123.71416437891955\n-123.05173402441847\n-122.67879984512774\n-122.38932328533852\n-122.11235517906883\n-121.8467076064955\n-121.6459029531297\n-121.54034926441143\n-121.50065502345691\n-121.48850096507388\n-121.48501190860614\n-121.48395786081319\n-121.48358205999102\n-121.48340378923972\n-121.48328524661622\n-121.48318136046599\n(array([0.55631101, 0.44368899]), array([[1.85954032e-01, 6.32177395e-11],\n       [9.76504944e-09, 4.66309852e-01],\n       [1.74796769e-01, 9.17076326e-02],\n       [2.47938603e-01, 1.33031097e-07],\n       [7.14660481e-49, 2.33154932e-01],\n       [6.19846774e-02, 0.00000000e+00],\n       [1.23969355e-01, 3.84942160e-13],\n       [1.85953959e-01, 9.19761584e-08],\n       [1.94025944e-02, 2.08827358e-01]]), array([[1.23969355e-01, 1.34338420e-41],\n       [1.23969355e-01, 1.29625799e-11],\n       [6.19846802e-02, 7.77183072e-02],\n       [1.37978631e-25, 1.55436622e-01],\n       [9.24648998e-06, 2.33143339e-01],\n       [1.74787433e-01, 9.17193395e-02],\n       [3.43626529e-76, 1.55436622e-01],\n       [2.22252870e-76, 1.55436622e-01],\n       [1.23969346e-01, 1.10890026e-08],\n       [1.85954032e-01, 1.46519940e-69],\n       [1.36912722e-01, 6.14895159e-02],\n       [6.84438315e-02, 6.96196230e-02]]))\n"
     ]
    }
   ],
   "source": [
    "pars = random_init_pars(2, n.shape)\n",
    "EMsteps(20, pars, docs2bow)"
   ]
  },
  {
   "cell_type": "code",
   "execution_count": 39,
   "metadata": {},
   "outputs": [
    {
     "output_type": "execute_result",
     "data": {
      "text/plain": [
       "{'human': 0,\n",
       " 'interface': 1,\n",
       " 'computer': 2,\n",
       " 'survey': 3,\n",
       " 'user': 4,\n",
       " 'system': 5,\n",
       " 'response': 6,\n",
       " 'time': 7,\n",
       " 'eps': 8,\n",
       " 'trees': 9,\n",
       " 'graph': 10,\n",
       " 'minors': 11}"
      ]
     },
     "metadata": {},
     "execution_count": 39
    }
   ],
   "source": [
    "token2id"
   ]
  },
  {
   "cell_type": "code",
   "execution_count": 40,
   "metadata": {},
   "outputs": [
    {
     "output_type": "execute_result",
     "data": {
      "text/plain": [
       "['Human machine interface for Lab ABC computer applications',\n",
       " 'A survey of user opinion of computer system response time',\n",
       " 'The EPS user interface management system',\n",
       " 'System and human system engineering testing of EPS',\n",
       " 'Relation of user-perceived response time to error measurement',\n",
       " 'The generation of random, binary, unordered trees',\n",
       " 'The intersection graph of paths in trees',\n",
       " 'Graph minors IV: Width of trees and well-quasi-ordering',\n",
       " 'Graph minors: A survey']"
      ]
     },
     "metadata": {},
     "execution_count": 40
    }
   ],
   "source": [
    "corpus"
   ]
  },
  {
   "source": [
    "## TEM"
   ],
   "cell_type": "markdown",
   "metadata": {}
  },
  {
   "cell_type": "code",
   "execution_count": 41,
   "metadata": {},
   "outputs": [],
   "source": [
    "def TEstep(beta, pars, docs2bow):\n",
    "    Pz, Pd_z, Pw_z = pars\n",
    "    poster = np.zeros((len(Pz), len(Pd_z), len(Pw_z)))\n",
    "    for z in range(len(Pz)):\n",
    "        for d, doc2bow in enumerate(docs2bow):\n",
    "            for w, ndw in doc2bow:\n",
    "                poster[z, d, w] = Pz[z] * (Pd_z[d, z] * Pw_z[w, z])**beta\n",
    "    poster /= poster.sum(axis=0) + 1e-16\n",
    "    return poster"
   ]
  },
  {
   "cell_type": "code",
   "execution_count": 42,
   "metadata": {},
   "outputs": [],
   "source": [
    "def TMstep(poster, docs2bow):\n",
    "    K, N, M = poster.shape\n",
    "    rePz, rePd_z, rePw_z = np.zeros(K), np.zeros((N, K)), np.zeros((M, K))\n",
    "    for z in range(K):\n",
    "        for d, doc2bow in enumerate(docs2bow):\n",
    "            for w, ndw in doc2bow:\n",
    "                rePz[z] += ndw * poster[z, d, w]\n",
    "                rePd_z[d, z] += ndw * poster[z, d, w]\n",
    "                rePw_z[w, z] += ndw * poster[z, d, w]\n",
    "    rePz /= sum(rePz)\n",
    "    rePd_z /= rePd_z.sum(axis=0)\n",
    "    rePw_z /= rePw_z.sum(axis=0)\n",
    "    repars = rePz, rePd_z, rePw_z\n",
    "    return repars"
   ]
  },
  {
   "cell_type": "code",
   "execution_count": 44,
   "metadata": {},
   "outputs": [],
   "source": [
    "def TEMsteps(pars, docs2bow):\n",
    "    beta = 1\n",
    "    new_likeli = likelihood(pars, docs2bow)\n",
    "    likeli = -10000\n",
    "    counter = 0\n",
    "    while round(new_likeli, 6) > round(likeli, 6):\n",
    "        counter += 1\n",
    "        likeli = new_likeli\n",
    "        print(counter, likeli)\n",
    "        poster = TEstep(beta, pars, docs2bow)\n",
    "        pars = TMstep(poster, docs2bow)\n",
    "        new_likeli = likelihood(pars, docs2bow)\n",
    "    print(new_likeli)"
   ]
  },
  {
   "cell_type": "code",
   "execution_count": 47,
   "metadata": {},
   "outputs": [],
   "source": [
    "def TEMsteps(eta, pars, docs2bow):\n",
    "    beta = 1\n",
    "    for i in range(100):\n",
    "        print(beta)\n",
    "        pars = random_init_pars(2, n.shape)\n",
    "        new_likeli = likelihood(pars, docs2bow)\n",
    "        likeli = -10000\n",
    "        while new_likeli > likeli:\n",
    "            likeli = new_likeli\n",
    "            print(likeli)\n",
    "            # one iteration TEM\n",
    "            poster = TEstep(beta, pars, docs2bow)\n",
    "            pars = TMstep(poster, docs2bow)\n",
    "            new_likeli = likelihood(pars, docs2bow)\n",
    "        print(new_likeli)\n",
    "        # new_likeli = likeli\n",
    "        beta *= eta"
   ]
  },
  {
   "cell_type": "code",
   "execution_count": 50,
   "metadata": {
    "tags": []
   },
   "outputs": [
    {
     "output_type": "stream",
     "name": "stdout",
     "text": [
      "1\n",
      "-142.36740485270482\n",
      "-131.3191495686631\n",
      "-130.6817670128018\n",
      "-129.94682923492215\n",
      "-129.14836700684694\n",
      "-128.41359152911275\n",
      "-127.87376729634954\n",
      "-127.50586058107888\n",
      "-127.24322695430021\n",
      "-127.02741064772358\n",
      "-126.82954673663252\n",
      "-126.65240714140599\n",
      "-126.49503252255734\n",
      "-126.34194355195694\n",
      "-126.18237764065431\n",
      "-126.03108645794163\n",
      "-125.91654197966317\n",
      "-125.84836350369953\n",
      "-125.81306282366324\n",
      "-125.79383434004774\n",
      "-125.78030541063737\n",
      "-125.76738661564262\n",
      "-125.75261612404032\n",
      "-125.73465511285657\n",
      "-125.71268236265081\n",
      "-125.68623291089325\n",
      "-125.65521581437972\n",
      "-125.61995909594168\n",
      "-125.58118918236376\n",
      "-125.53991567586684\n",
      "-125.49726416330024\n",
      "-125.45433619910715\n",
      "-125.41215023174851\n",
      "-125.37166122203307\n",
      "-125.33381100586575\n",
      "-125.29953546043082\n",
      "-125.26966588626809\n",
      "-125.24474054360257\n",
      "-125.22484145433607\n",
      "-125.2095761717969\n",
      "-125.19821473688793\n",
      "-125.18988881764146\n",
      "-125.18375410266007\n",
      "-125.17907497102607\n",
      "-125.17524087977922\n",
      "-125.17174043221156\n",
      "-125.16811310100196\n",
      "-125.16388569153592\n",
      "-125.158487057777\n",
      "-125.15111811076227\n",
      "-125.14052580143299\n",
      "-125.12457010322333\n",
      "-125.09934283904694\n",
      "-125.05734517584557\n",
      "-124.98402132685558\n",
      "-124.8537118880944\n",
      "-124.63789750692165\n",
      "-124.35614500599978\n",
      "-124.11631718916502\n",
      "-123.99547855984076\n",
      "-123.9578350474111\n",
      "-123.94952478156934\n",
      "-123.94801482420439\n",
      "-123.94776398971737\n",
      "-123.94772371424985\n",
      "-123.94771728773979\n",
      "-123.94771624660495\n",
      "-123.94771606890404\n",
      "-123.94771603431047\n",
      "-123.94771602567167\n",
      "-123.94771602276327\n",
      "-123.94771602155186\n",
      "-123.94771602099374\n",
      "-123.94771602072632\n",
      "-123.94771602059609\n",
      "-123.94771602053189\n",
      "-123.94771602049923\n",
      "-123.94771602048132\n",
      "-123.94771602046963\n",
      "-123.94771602045938\n",
      "-123.94771602044749\n",
      "-123.94771602043133\n",
      "-123.94771602040768\n",
      "-123.94771602037227\n",
      "-123.94771602031885\n",
      "-123.947716020238\n",
      "-123.94771602011555\n",
      "-123.94771601993011\n",
      "-123.94771601964909\n",
      "-123.94771601922339\n",
      "-123.94771601857836\n",
      "-123.94771601760112\n",
      "-123.94771601612054\n",
      "-123.94771601387733\n",
      "-123.94771601047874\n",
      "-123.94771600532962\n",
      "-123.94771599752835\n",
      "-123.94771598570875\n",
      "-123.94771596780123\n",
      "-123.94771594066998\n",
      "-123.94771589956413\n",
      "-123.94771583728563\n",
      "-123.94771574292905\n",
      "-123.94771559997163\n",
      "-123.94771538338016\n",
      "-123.94771505522708\n",
      "-123.94771455804873\n",
      "-123.94771380478183\n",
      "-123.9477126635158\n",
      "-123.94771093438833\n",
      "-123.94770831457488\n",
      "-123.94770434523268\n",
      "-123.94769833108555\n",
      "-123.94768921851994\n",
      "-123.94767541073196\n",
      "-123.94765448729368\n",
      "-123.94762277843496\n",
      "-123.94757471811452\n",
      "-123.94750185943573\n",
      "-123.94739137272826\n",
      "-123.94722374658804\n",
      "-123.94696925086593\n",
      "-123.94658245371295\n",
      "-123.94599362834589\n",
      "-123.94509507258454\n",
      "-123.94371885014675\n",
      "-123.94159950323605\n",
      "-123.93830922471217\n",
      "-123.93314003764804\n",
      "-123.92487904020697\n",
      "-123.91135960136647\n",
      "-123.88853894346335\n",
      "-123.8486461469906\n",
      "-123.77712618241331\n",
      "-123.65172959371446\n",
      "-123.46092966863063\n",
      "-123.25187281928788\n",
      "-123.10815165414\n",
      "-123.04303007683036\n",
      "-123.01983935132172\n",
      "-123.0123764993119\n",
      "-123.01005848973003\n",
      "-123.0093466125696\n",
      "-123.00912875651441\n",
      "-123.00906215776145\n",
      "-123.00904180518799\n",
      "-123.0090355860702\n",
      "-123.00903368575841\n",
      "-123.00903310510519\n",
      "-123.00903292768318\n",
      "-123.00903287347082\n",
      "-123.00903285690597\n",
      "-123.00903285184452\n",
      "-123.0090328502979\n",
      "-123.00903284982539\n",
      "-123.00903284968096\n",
      "-123.00903284963684\n",
      "-123.00903284962334\n",
      "-123.00903284961925\n",
      "-123.00903284961798\n",
      "-123.0090328496176\n",
      "-123.0090328496175\n",
      "-123.00903284961745\n",
      "-123.00903284961744\n",
      "-123.00903284961741\n",
      "-123.00903284961741\n",
      "0.9\n",
      "-142.385249393345\n",
      "-130.79285382801518\n",
      "-129.70332534330515\n",
      "-128.66576306291103\n",
      "-127.43007018801124\n",
      "-126.0877353418108\n",
      "-125.0087192094063\n",
      "-124.20396213703765\n",
      "-123.40485028936826\n",
      "-122.40006833225009\n",
      "-121.12827595551543\n",
      "-120.01373337006311\n",
      "-119.47433736300161\n",
      "-119.21645003036186\n",
      "-118.95437396987224\n",
      "-118.68367000713384\n",
      "-118.47674803270039\n",
      "-118.36246510593843\n",
      "-118.31183821821388\n",
      "-118.29162355731847\n",
      "-118.28423961878943\n",
      "-118.2823020439832\n",
      "-118.28282104529286\n",
      "0.81\n",
      "-143.72292397630054\n",
      "-129.31569345317132\n",
      "-127.62434208514112\n",
      "-125.90366541133966\n",
      "-124.41172733903011\n",
      "-123.35164412738531\n",
      "-122.68478447540127\n",
      "-122.29271606178713\n",
      "-122.07215073354638\n",
      "-121.94880187828741\n",
      "-121.8771198749184\n",
      "-121.83193734531541\n",
      "-121.79959293751917\n",
      "-121.77226304178164\n",
      "-121.74497125915049\n",
      "-121.71412331714465\n",
      "-121.67687113430304\n",
      "-121.63095929724209\n",
      "-121.57479427703966\n",
      "-121.50737388373456\n",
      "-121.42761933705194\n",
      "-121.33290146144088\n",
      "-121.21736765021134\n",
      "-121.07183700254663\n",
      "-120.88779889970735\n",
      "-120.66665355862158\n",
      "-120.42896776687346\n",
      "-120.21021607456377\n",
      "-120.03700833397679\n",
      "-119.90441942073532\n",
      "-119.77264030943267\n",
      "-119.56506890445353\n",
      "-119.17618891180199\n",
      "-118.61364891787112\n",
      "-118.15097384083991\n",
      "-117.97183645861772\n",
      "-117.93642359249098\n",
      "-117.92382777823128\n",
      "-117.91445045802831\n",
      "-117.90715958190884\n",
      "-117.90149898610596\n",
      "-117.89710766363348\n",
      "-117.89370193018053\n",
      "-117.89106011803787\n",
      "-117.88900962173311\n",
      "-117.88741638747769\n",
      "-117.88617652995241\n",
      "-117.88520969735585\n",
      "-117.8844538432992\n",
      "-117.88386112157382\n",
      "-117.88339467346013\n",
      "-117.88302612211154\n",
      "-117.8827336250424\n",
      "-117.88250036534285\n",
      "-117.88231338629704\n",
      "-117.8821626936436\n",
      "-117.88204056558406\n",
      "-117.881941023451\n",
      "-117.881859426211\n",
      "-117.88179216015102\n",
      "-117.88173640155053\n",
      "-117.88168993521268\n",
      "-117.88165101568298\n",
      "-117.88161826105451\n",
      "-117.88159057163101\n",
      "-117.88156706754671\n",
      "-117.88154704084188\n",
      "-117.88152991856595\n",
      "-117.88151523429924\n",
      "-117.881502606107\n",
      "-117.88149171941646\n",
      "-117.88148231366543\n",
      "-117.88147417185071\n",
      "-117.88146711230596\n",
      "-117.88146098220362\n",
      "-117.88145565239103\n",
      "-117.8814510132643\n",
      "-117.8814469714521\n",
      "-117.88144344713496\n",
      "-117.88144037186456\n",
      "-117.8814376867796\n",
      "-117.8814353411375\n",
      "-117.88143329109846\n",
      "-117.8814314987136\n",
      "-117.88142993107776\n",
      "-117.88142855961756\n",
      "-117.88142735948914\n",
      "-117.88142630906769\n",
      "-117.88142538951239\n",
      "-117.8814245843944\n",
      "-117.8814238793779\n",
      "-117.88142326194605\n",
      "-117.88142272116434\n",
      "-117.8814222474762\n",
      "-117.8814218325264\n",
      "-117.88142146900744\n",
      "-117.88142115052648\n",
      "-117.88142087148947\n",
      "-117.88142062700038\n",
      "-117.88142041277328\n",
      "-117.88142022505575\n",
      "-117.88142006056212\n",
      "-117.88141991641506\n",
      "-117.88141979009453\n",
      "-117.88141967939322\n",
      "-117.8814195823778\n",
      "-117.8814194973545\n",
      "-117.88141942283956\n",
      "-117.88141935753305\n",
      "-117.88141930029603\n",
      "-117.88141925013068\n",
      "-117.88141920616258\n",
      "-117.88141916762557\n",
      "-117.88141913384841\n",
      "-117.88141910424272\n",
      "-117.88141907829313\n",
      "-117.88141905554777\n",
      "-117.88141903561082\n",
      "-117.8814190181353\n",
      "-117.88141900281714\n",
      "-117.88141898938996\n",
      "-117.88141897762014\n",
      "-117.881418967303\n",
      "-117.88141895825926\n",
      "-117.88141895033161\n",
      "-117.88141894338223\n",
      "-117.88141893729045\n",
      "-117.88141893195035\n",
      "-117.88141892726912\n",
      "-117.88141892316547\n",
      "-117.8814189195681\n",
      "-117.88141891641452\n",
      "-117.88141891365001\n",
      "-117.88141891122652\n",
      "-117.88141890910192\n",
      "-117.88141890723945\n",
      "-117.8814189056067\n",
      "-117.88141890417533\n",
      "-117.88141890292049\n",
      "-117.8814189018204\n",
      "-117.88141890085599\n",
      "-117.88141890001053\n",
      "-117.88141889926939\n",
      "-117.88141889861956\n",
      "-117.88141889804987\n",
      "-117.88141889755046\n",
      "-117.88141889711265\n",
      "-117.88141889672879\n",
      "-117.88141889639228\n",
      "-117.88141889609727\n",
      "-117.88141889583864\n",
      "-117.88141889561189\n",
      "-117.88141889541308\n",
      "-117.88141889523877\n",
      "-117.881418895086\n",
      "-117.88141889495205\n",
      "-117.88141889483458\n",
      "-117.88141889473165\n",
      "-117.88141889464136\n",
      "-117.88141889456223\n",
      "-117.88141889449281\n",
      "-117.881418894432\n",
      "-117.88141889437867\n",
      "-117.88141889433192\n",
      "-117.88141889429093\n",
      "-117.88141889425499\n",
      "-117.88141889422349\n",
      "-117.88141889419586\n",
      "-117.88141889417166\n",
      "-117.88141889415041\n",
      "-117.8814188941318\n",
      "-117.88141889411551\n",
      "-117.88141889410117\n",
      "-117.88141889408863\n",
      "-117.88141889407761\n",
      "-117.88141889406798\n",
      "-117.88141889405952\n",
      "-117.88141889405212\n",
      "-117.88141889404562\n",
      "-117.88141889403992\n",
      "-117.88141889403492\n",
      "-117.88141889403055\n",
      "-117.88141889402668\n",
      "-117.88141889402335\n",
      "-117.8814188940204\n",
      "-117.8814188940178\n",
      "-117.88141889401552\n",
      "-117.88141889401355\n",
      "-117.88141889401183\n",
      "-117.88141889401027\n",
      "-117.88141889400895\n",
      "-117.88141889400777\n",
      "-117.88141889400671\n",
      "-117.88141889400583\n",
      "-117.88141889400502\n",
      "-117.88141889400436\n",
      "-117.88141889400372\n",
      "-117.8814188940032\n",
      "-117.88141889400273\n",
      "-117.88141889400234\n",
      "-117.88141889400194\n",
      "-117.88141889400165\n",
      "-117.88141889400136\n",
      "-117.88141889400114\n",
      "-117.88141889400092\n",
      "-117.88141889400076\n",
      "-117.88141889400059\n",
      "-117.88141889400045\n",
      "-117.88141889400029\n",
      "-117.88141889400016\n",
      "-117.8814188940001\n",
      "-117.88141889399998\n",
      "-117.88141889399995\n",
      "-117.88141889399985\n",
      "-117.88141889399978\n",
      "-117.88141889399976\n",
      "-117.88141889399971\n",
      "-117.8814188939997\n",
      "-117.88141889399968\n",
      "-117.88141889399962\n",
      "-117.88141889399958\n",
      "-117.88141889399957\n",
      "-117.88141889399955\n",
      "-117.88141889399954\n",
      "-117.88141889399951\n",
      "-117.88141889399951\n",
      "0.7290000000000001\n",
      "-142.83208297918412\n",
      "-130.1060618785796\n",
      "-129.30665128758127\n",
      "-128.35277945304998\n",
      "-127.19067081362233\n",
      "-125.95425216586143\n",
      "-124.86821381186255\n",
      "-124.06081081536298\n",
      "-123.4642972358117\n",
      "-122.93389664679326\n",
      "-122.37994381486155\n",
      "-121.78381369236645\n",
      "-121.16889327547626\n",
      "-120.56805843054757\n",
      "-120.00736577410687\n",
      "-119.51579105682593\n",
      "-119.12364951306482\n",
      "-118.83914978470091\n",
      "-118.64264469300034\n",
      "-118.50517842916652\n",
      "-118.4043933638039\n",
      "-118.32732943195094\n",
      "-118.26715580234415\n",
      "-118.22001441468885\n",
      "-118.18333388611575\n",
      "-118.15513374305625\n",
      "-118.13377814654893\n",
      "-118.11789388771746\n",
      "-118.10633680128588\n",
      "-118.09816746551469\n",
      "-118.09262619216231\n",
      "-118.08910676888117\n",
      "-118.08713065276638\n",
      "-118.08632321182134\n",
      "-118.0863929523348\n",
      "0.6561000000000001\n",
      "-145.04427855467716\n",
      "-131.75720480350907\n",
      "-131.5479308201892\n",
      "-131.3024999446212\n",
      "-130.9783527418733\n",
      "-130.562171965354\n",
      "-130.05593889161955\n",
      "-129.47415469863006\n",
      "-128.83518275030545\n",
      "-128.14908988137174\n",
      "-127.4119624333747\n",
      "-126.61142038014233\n",
      "-125.73764680181604\n",
      "-124.79291591762339\n",
      "-123.79790961426968\n",
      "-122.79402611536861\n",
      "-121.83821237504428\n",
      "-120.98857057275369\n",
      "-120.28610088680202\n",
      "-119.74320029930394\n",
      "-119.3457281009282\n",
      "-119.06505497613385\n",
      "-118.87064232758804\n",
      "-118.73712619255562\n",
      "-118.64598994862979\n",
      "-118.58451182235514\n",
      "-118.54410472818992\n",
      "-118.51893412032828\n",
      "-118.50496792069401\n",
      "-118.49936727412738\n",
      "-118.50010084882206\n",
      "0.5904900000000002\n",
      "-154.32612683045818\n",
      "-129.63817130617673\n",
      "-129.2780157426453\n",
      "-128.9123622315292\n",
      "-128.4331464878906\n",
      "-127.81591468723273\n",
      "-127.06330983902126\n",
      "-126.19459676156238\n",
      "-125.2452761391748\n",
      "-124.2648215369538\n",
      "-123.30873580378906\n",
      "-122.42650972375816\n",
      "-121.65030541628848\n",
      "-120.98952922406417\n",
      "-120.43357186823371\n",
      "-119.96043319412975\n",
      "-119.54616174103094\n",
      "-119.17103089546197\n",
      "-118.8215430257317\n",
      "-118.48978218497606\n",
      "-118.17204222892138\n",
      "-117.867733500962\n",
      "-117.57861274104656\n",
      "-117.30804489031469\n",
      "-117.06013635080592\n",
      "-116.83879462671322\n",
      "-116.6468832347646\n",
      "-116.48564434561183\n",
      "-116.35449347490577\n",
      "-116.25118953632895\n",
      "-116.17228688755964\n",
      "-116.11371654481425\n",
      "-116.0713397649752\n",
      "-116.04136304990958\n",
      "-116.02057259351024\n",
      "-116.00640655180494\n",
      "-115.99691600147365\n",
      "-115.99066934928092\n",
      "-115.98664163682925\n",
      "-115.98411253317968\n",
      "-115.98258267573544\n",
      "-115.98170958367103\n",
      "-115.98126056380922\n",
      "-115.98107897850318\n",
      "-115.98106046749982\n",
      "-115.98113635898666\n",
      "0.5314410000000002\n",
      "-140.1971833084258\n",
      "-131.20217656457893\n",
      "-131.32830035847152\n",
      "0.47829690000000014\n",
      "-138.53773148389044\n",
      "-131.43479357324358\n",
      "-131.5779393924957\n",
      "0.43046721000000016\n",
      "-138.55010888827874\n",
      "-131.51694656388807\n",
      "-131.7990444921768\n",
      "0.38742048900000015\n",
      "-141.13959749146127\n",
      "-131.46333915472596\n",
      "-131.9030612934816\n",
      "0.34867844010000015\n",
      "-137.09081154808493\n",
      "-132.06227992092224\n",
      "-132.25351135529817\n",
      "0.31381059609000017\n",
      "-138.25309178483022\n",
      "-131.82056123599713\n",
      "-132.2087261740241\n",
      "0.28242953648100017\n",
      "-140.15027879228822\n",
      "-131.18753749711337\n",
      "-132.0274836967145\n",
      "0.25418658283290013\n",
      "-135.76505051442217\n",
      "-131.5230390900944\n",
      "-132.17205251783471\n",
      "0.22876792454961012\n",
      "-154.65110482315836\n",
      "-132.35008245174316\n",
      "-132.36547748879215\n",
      "0.2058911320946491\n",
      "-145.2096886371642\n",
      "-132.2653149225902\n",
      "-132.35699658303977\n",
      "0.1853020188851842\n",
      "-147.22778657273034\n",
      "-132.27538842646453\n",
      "-132.36106343143808\n",
      "0.16677181699666577\n",
      "-138.48216691134493\n",
      "-132.15797051483895\n",
      "-132.3514862893653\n",
      "0.1500946352969992\n",
      "-153.20936680292135\n",
      "-132.3218981728784\n",
      "-132.36674075487198\n",
      "0.13508517176729928\n",
      "-138.86897791386696\n",
      "-132.25080868672035\n",
      "-132.3635714303568\n",
      "0.12157665459056936\n",
      "-139.15910134869202\n",
      "-132.13905609831073\n",
      "-132.35910965485925\n",
      "0.10941898913151243\n",
      "-145.10806648212377\n",
      "-132.35271852810047\n",
      "-132.36882351028763\n",
      "0.0984770902183612\n",
      "-145.20397181503836\n",
      "-132.36846215938905\n",
      "-132.36952011122244\n",
      "0.08862938119652508\n",
      "-145.22294080673504\n",
      "-132.31647929453746\n",
      "-132.36824160522423\n",
      "0.07976644307687257\n",
      "-143.47830435595793\n",
      "-132.30632977662125\n",
      "-132.36851042367752\n",
      "0.07178979876918531\n",
      "-145.4619105257964\n",
      "-132.3499872299768\n",
      "-132.3692958419027\n",
      "0.06461081889226679\n",
      "-147.42534184978598\n",
      "-132.32805978287462\n",
      "-132.36903588994332\n",
      "0.05814973700304011\n",
      "-137.087052346519\n",
      "-132.34874620079609\n",
      "-132.36931211118863\n",
      "0.0523347633027361\n",
      "-136.30194322251606\n",
      "-132.34900765025017\n",
      "-132.36939574506425\n",
      "0.04710128697246249\n",
      "-139.0714502201297\n",
      "-132.36375865069311\n",
      "-132.36952064802946\n",
      "0.042391158275216244\n",
      "-144.7373742136717\n",
      "-132.36335741445586\n",
      "-132.36952968909807\n",
      "0.03815204244769462\n",
      "-145.87898045607668\n",
      "-132.3607670483288\n",
      "-132.369522594362\n",
      "0.03433683820292516\n",
      "-148.10319266425574\n",
      "-132.36650944611526\n",
      "-132.36955026974448\n",
      "0.030903154382632643\n",
      "-139.69162519344965\n",
      "-132.36462926659513\n",
      "-132.3695474215185\n",
      "0.02781283894436938\n",
      "-144.46258695199455\n",
      "-132.365947180419\n",
      "-132.36955113499326\n",
      "0.025031555049932444\n",
      "-147.48044392546507\n",
      "-132.36283384770618\n",
      "-132.36954794290915\n",
      "0.0225283995449392\n",
      "-147.35777297546719\n",
      "-132.3669022664492\n",
      "-132.3695569395388\n",
      "0.020275559590445278\n",
      "-143.57605404570202\n",
      "-132.3687663811619\n",
      "-132.3695607754673\n",
      "0.01824800363140075\n",
      "-140.0783159010898\n",
      "-132.36896423642955\n",
      "-132.3695610278436\n",
      "0.016423203268260675\n",
      "-143.71066331145855\n",
      "-132.36795553282673\n",
      "-132.3695606003172\n",
      "0.014780882941434608\n",
      "-145.69507874858698\n",
      "-132.36871380458237\n",
      "-132.36956104303204\n",
      "0.013302794647291147\n",
      "-143.2439348112381\n",
      "-132.36875244632955\n",
      "-132.36956132470587\n",
      "0.011972515182562033\n",
      "-141.2639593410732\n",
      "-132.36902118376463\n",
      "-132.36956145782045\n",
      "0.01077526366430583\n",
      "-144.31749662696072\n",
      "-132.36939243645946\n",
      "-132.36956161482163\n",
      "0.009697737297875247\n",
      "-140.86257174995626\n",
      "-132.369156073047\n",
      "-132.36956154446938\n",
      "0.008727963568087723\n",
      "-145.34852543260172\n",
      "-132.3688698882219\n",
      "-132.36956151922573\n",
      "0.00785516721127895\n",
      "-152.29007918713484\n",
      "-132.36875407574203\n",
      "-132.36956152027892\n",
      "0.007069650490151055\n",
      "-148.1593452264485\n",
      "-132.3692824017036\n",
      "-132.36956163174685\n",
      "0.00636268544113595\n",
      "-151.053530074212\n",
      "-132.36949553088814\n",
      "-132.36956167034145\n",
      "0.005726416897022355\n",
      "-139.49580050566948\n",
      "-132.36942913280373\n",
      "-132.3695616657313\n",
      "0.00515377520732012\n",
      "-144.4411966723077\n",
      "-132.36933974298503\n",
      "-132.36956165645464\n",
      "0.004638397686588107\n",
      "-147.77556014583433\n",
      "-132.36948757934425\n",
      "-132.36956167371073\n",
      "0.0041745579179292966\n",
      "-146.83835588566734\n",
      "-132.3695171590198\n",
      "-132.36956167611422\n",
      "0.003757102126136367\n",
      "-137.95056173598715\n",
      "-132.36949701126008\n",
      "-132.36956167594016\n",
      "0.00338139191352273\n",
      "-137.7468980392221\n",
      "-132.3695421082669\n",
      "-132.3695616776885\n",
      "0.0030432527221704573\n",
      "-140.01694184381142\n",
      "-132.36938460022589\n",
      "-132.3695616726482\n",
      "0.0027389274499534117\n",
      "-139.8705108243724\n",
      "-132.36954126550322\n",
      "-132.3695616778336\n",
      "0.0024650347049580707\n",
      "-141.37219695832474\n",
      "-132.3695074925096\n",
      "-132.36956167742457\n",
      "0.0022185312344622636\n",
      "-144.18999044480952\n",
      "-132.36954250175887\n",
      "-132.36956167804559\n",
      "0.001996678111016037\n",
      "-143.224430518094\n",
      "-132.36955151902578\n",
      "-132.36956167814824\n",
      "0.0017970102999144335\n",
      "-145.93981047299494\n",
      "-132.36954786470298\n",
      "-132.36956167817348\n",
      "0.0016173092699229901\n",
      "-151.16796715946955\n",
      "-132.3695535594958\n",
      "-132.36956167824215\n",
      "0.0014555783429306911\n",
      "-138.61321336234363\n",
      "-132.36955773498863\n",
      "-132.36956167826878\n",
      "0.001310020508637622\n",
      "-144.21421504341475\n",
      "-132.3695504170648\n",
      "-132.36956167823968\n",
      "0.0011790184577738598\n",
      "-140.88471302161142\n",
      "-132.36955316820442\n",
      "-132.3695616782579\n",
      "0.0010611166119964739\n",
      "-144.68013970124468\n",
      "-132.36955321406754\n",
      "-132.36956167827304\n",
      "0.0009550049507968265\n",
      "-143.27136710119572\n",
      "-132.36955836826567\n",
      "-132.3695616782905\n",
      "0.0008595044557171439\n",
      "-150.95052922836945\n",
      "-132.36955932501596\n",
      "-132.36956167829425\n",
      "0.0007735540101454295\n",
      "-140.94039920029627\n",
      "-132.36955572596077\n",
      "-132.3695616782879\n",
      "0.0006961986091308866\n",
      "-138.62005284089813\n",
      "-132.36955921492597\n",
      "-132.3695616782959\n",
      "0.0006265787482177979\n",
      "-145.59742295549154\n",
      "-132.369556926325\n",
      "-132.3695616782924\n",
      "0.0005639208733960181\n",
      "-141.09326152743765\n",
      "-132.36955785916365\n",
      "-132.36956167829538\n",
      "0.0005075287860564164\n",
      "-143.82574363347726\n",
      "-132.369559791725\n",
      "-132.36956167829752\n",
      "0.00045677590745077476\n",
      "-153.21137154345638\n",
      "-132.36956049777615\n",
      "-132.36956167829837\n",
      "0.0004110983167056973\n",
      "-147.7823335010627\n",
      "-132.369561507056\n",
      "-132.36956167829908\n",
      "0.0003699884850351276\n",
      "-137.46515778577282\n",
      "-132.3695599031952\n",
      "-132.36956167829834\n",
      "0.00033298963653161486\n",
      "-143.7517326524154\n",
      "-132.36956037390934\n",
      "-132.36956167829862\n",
      "0.0002996906728784534\n",
      "-157.10449237534195\n",
      "-132.36956156833816\n",
      "-132.36956167829916\n",
      "0.00026972160559060804\n",
      "-160.42215266307542\n",
      "-132.36956124604478\n",
      "-132.36956167829908\n",
      "0.00024274944503154723\n",
      "-137.59119493534214\n",
      "-132.3695613576691\n",
      "-132.36956167829914\n",
      "0.00021847450052839252\n",
      "-142.31679693719974\n",
      "-132.36956162031888\n",
      "-132.36956167829916\n",
      "0.00019662705047555326\n",
      "-141.02910694833903\n",
      "-132.36956125462024\n",
      "-132.3695616782991\n",
      "0.00017696434542799794\n",
      "-147.72990036715038\n",
      "-132.3695615524314\n",
      "-132.36956167829914\n",
      "0.00015926791088519815\n",
      "-141.13564247585472\n",
      "-132.3695614993209\n",
      "-132.3695616782992\n",
      "0.00014334111979667834\n",
      "-139.95974132984543\n",
      "-132.36956158677037\n",
      "-132.36956167829916\n",
      "0.00012900700781701051\n",
      "-142.32063319374302\n",
      "-132.36956163112902\n",
      "-132.3695616782992\n",
      "0.00011610630703530947\n",
      "-138.82737279914772\n",
      "-132.36956166189663\n",
      "-132.3695616782992\n",
      "0.00010449567633177853\n",
      "-138.93120976065504\n",
      "-132.36956159203265\n",
      "-132.3695616782992\n",
      "9.404610869860067e-05\n",
      "-140.16017135119662\n",
      "-132.36956160907968\n",
      "-132.3695616782992\n",
      "8.464149782874061e-05\n",
      "-158.00547152358408\n",
      "-132.36956165370967\n",
      "-132.3695616782992\n",
      "7.617734804586655e-05\n",
      "-140.3504674228954\n",
      "-132.36956167275878\n",
      "-132.3695616782992\n",
      "6.85596132412799e-05\n",
      "-142.78662399714136\n",
      "-132.3695616406466\n",
      "-132.3695616782992\n",
      "6.170365191715192e-05\n",
      "-141.83693968567394\n",
      "-132.36956160706845\n",
      "-132.3695616782992\n",
      "5.5533286725436733e-05\n",
      "-137.7952320977905\n",
      "-132.3695616706999\n",
      "-132.3695616782992\n",
      "4.997995805289306e-05\n",
      "-143.87406097091954\n",
      "-132.3695616634649\n",
      "-132.3695616782992\n",
      "4.4981962247603756e-05\n",
      "-139.64222820810113\n",
      "-132.36956166853383\n",
      "-132.3695616782992\n",
      "4.048376602284338e-05\n",
      "-143.3759395286702\n",
      "-132.36956165640527\n",
      "-132.3695616782992\n",
      "3.6435389420559045e-05\n",
      "-152.52657981509188\n",
      "-132.3695616760068\n",
      "-132.3695616782992\n",
      "3.279185047850314e-05\n",
      "-138.28066169265088\n",
      "-132.3695616377197\n",
      "-132.3695616782992\n",
      "2.9512665430652825e-05\n",
      "-147.11862135494394\n",
      "-132.36956167082636\n",
      "-132.3695616782992\n"
     ]
    }
   ],
   "source": [
    "pars = random_init_pars(2, n.shape)\n",
    "TEMsteps(0.9, pars, docs2bow)"
   ]
  },
  {
   "cell_type": "code",
   "execution_count": null,
   "metadata": {},
   "outputs": [],
   "source": []
  }
 ]
}